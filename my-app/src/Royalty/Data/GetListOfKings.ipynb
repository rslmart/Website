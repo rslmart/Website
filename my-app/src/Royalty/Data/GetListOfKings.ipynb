{
 "cells": [
  {
   "cell_type": "code",
   "execution_count": 160,
   "outputs": [],
   "source": [
    "import requests\n",
    "from bs4 import BeautifulSoup\n",
    "import json\n",
    "import os\n",
    "\n",
    "def flatten(l):\n",
    "    return [item for sublist in l for item in sublist]\n",
    "\n",
    "def get_monarch_list(url, div_name, td_classes):\n",
    "    response = requests.get(\n",
    "        url=url\n",
    "    )\n",
    "    soup = BeautifulSoup(response.content, 'html.parser')\n",
    "    div_element = soup.find('div', attrs={'aria-labelledby': div_name})\n",
    "    td_elements = div_element.find_all('td', attrs={'class': td_classes})\n",
    "    li_tags = flatten([td_element.find_all('li') for td_element in td_elements])\n",
    "    monarchs = [li_tag.find('a').get('href') for li_tag in li_tags if li_tag.find('a')]\n",
    "    return [x for i, x in enumerate(monarchs) if x not in monarchs[:i]]\n",
    "\n",
    "def saveData(list_name, monarch_list):\n",
    "    print(\"Saving Data: {}\".format(len(monarch_list)))\n",
    "    file_path = 'data/monarch_list.json'\n",
    "    if not os.path.exists(file_path):\n",
    "        data = {}\n",
    "    else:\n",
    "        # Open the JSON file and load its content into a Python object\n",
    "        with open(file_path, 'r') as file:\n",
    "            data = json.load(file)\n",
    "    data[list_name] = monarch_list\n",
    "    # Convert dictionary to JSON string using the custom encoder\n",
    "    json_data = json.dumps(data, indent=4)\n",
    "    # Write JSON data to a file\n",
    "    with open(file_path, \"w\") as file:\n",
    "        file.write(json_data)"
   ],
   "metadata": {
    "collapsed": false,
    "pycharm": {
     "name": "#%%\n"
    }
   }
  },
  {
   "cell_type": "code",
   "execution_count": 161,
   "outputs": [
    {
     "name": "stdout",
     "output_type": "stream",
     "text": [
      "['/wiki/%C3%86thelstan', '/wiki/Edmund_I', '/wiki/Eadred', '/wiki/Eadwig', '/wiki/Edgar,_King_of_England', '/wiki/Edward_the_Martyr', '/wiki/%C3%86thelred_the_Unready', '/wiki/Sweyn_Forkbeard', '/wiki/Edmund_Ironside', '/wiki/Cnut', '/wiki/Harold_Harefoot', '/wiki/Harthacnut', '/wiki/Edward_the_Confessor', '/wiki/Harold_Godwinson', '/wiki/Edgar_%C3%86theling', '/wiki/William_the_Conqueror', '/wiki/William_II_of_England', '/wiki/Henry_I_of_England', '/wiki/Stephen,_King_of_England', '/wiki/Empress_Matilda', '/wiki/Henry_II_of_England', '/wiki/Henry_the_Young_King', '/wiki/Richard_I_of_England', '/wiki/John,_King_of_England', '/wiki/Louis_VIII_of_France', '/wiki/Henry_III_of_England', '/wiki/Edward_I_of_England', '/wiki/Edward_II_of_England', '/wiki/Edward_III_of_England', '/wiki/Richard_II_of_England', '/wiki/Henry_IV_of_England', '/wiki/Henry_V_of_England', '/wiki/Henry_VI_of_England', '/wiki/Edward_IV_of_England', '/wiki/Edward_V_of_England', '/wiki/Richard_III_of_England', '/wiki/Henry_VII_of_England', '/wiki/Henry_VIII', '/wiki/Edward_VI', '/wiki/Lady_Jane_Grey', '/wiki/Mary_I_of_England', '/wiki/Elizabeth_I', '/wiki/James_VI_and_I', '/wiki/Charles_I_of_England', '/wiki/The_Protectorate', '/wiki/Oliver_Cromwell', '/wiki/Richard_Cromwell', '/wiki/Charles_II_of_England', '/wiki/James_II_of_England', '/wiki/William_III_of_England', '/wiki/Anne,_Queen_of_Great_Britain', '/wiki/George_I_of_Great_Britain', '/wiki/George_II_of_Great_Britain', '/wiki/George_III', '/wiki/George_IV', '/wiki/William_IV', '/wiki/Queen_Victoria', '/wiki/Edward_VII', '/wiki/George_V', '/wiki/Edward_VIII', '/wiki/George_VI', '/wiki/Elizabeth_II', '/wiki/Charles_III']\n",
      "Saving Data: 63\n"
     ]
    }
   ],
   "source": [
    "# Kings of England\n",
    "response = requests.get(\n",
    "\turl=\"https://en.wikipedia.org/wiki/List_of_English_monarchs\",\n",
    ")\n",
    "soup = BeautifulSoup(response.content, 'html.parser')\n",
    "div_element = soup.find('div', attrs={'aria-labelledby': 'English,_Scottish_and_British_monarchs'})\n",
    "td_element = div_element.find(lambda tag: tag.name == 'td' and tag['class'] == ['navbox-list'])\n",
    "li_tags = td_element.find_all('li')\n",
    "kings_of_england = [li_tag.find('a').get('href') for li_tag in li_tags if li_tag.find('a')]\n",
    "td_elements = div_element.find('td', attrs={'class': \"navbox-list navbox-even hlist\"})\n",
    "li_tags = td_elements.find_all('li')\n",
    "td_elements = div_element.find('td', attrs={'class': \"navbox-list navbox-odd hlist\"})\n",
    "li_tags = li_tags + td_elements.find_all('li')\n",
    "kings_of_england = kings_of_england + [li_tag.find('a').get('href') for li_tag in li_tags if li_tag.find('a')]\n",
    "kings_of_england = [x for i, x in enumerate(kings_of_england) if x not in kings_of_england[:i]]\n",
    "print(kings_of_england)"
   ],
   "metadata": {
    "collapsed": false,
    "pycharm": {
     "name": "#%%\n"
    }
   }
  },
  {
   "cell_type": "code",
   "execution_count": 145,
   "outputs": [
    {
     "name": "stdout",
     "output_type": "stream",
     "text": [
      "['/wiki/Clovis_I', '/wiki/Childebert_I', '/wiki/Chlothar_I', '/wiki/Charibert_I', '/wiki/Guntram', '/wiki/Chilperic_I', '/wiki/Sigebert_I', '/wiki/Childebert_II', '/wiki/Chlothar_II', '/wiki/Dagobert_I', '/wiki/Sigebert_II', '/wiki/Clovis_II', '/wiki/Chlothar_III', '/wiki/Childeric_II', '/wiki/Theuderic_III', '/wiki/Clovis_IV', '/wiki/Childebert_III', '/wiki/Dagobert_III', '/wiki/Chilperic_II', '/wiki/Chlothar_IV', '/wiki/Theuderic_IV', '/wiki/Childeric_III', '/wiki/Pepin_the_Short', '/wiki/Carloman_I', '/wiki/Charlemagne', '/wiki/Louis_the_Pious', '/wiki/Charles_the_Bald', '/wiki/Louis_the_Stammerer', '/wiki/Louis_III_of_France', '/wiki/Carloman_II', '/wiki/Charles_the_Fat', '/wiki/Odo_of_France', '/wiki/Charles_the_Simple', '/wiki/Robert_I_of_France', '/wiki/Rudolph_of_France', '/wiki/Louis_IV_of_France', '/wiki/Lothair_of_France', '/wiki/Louis_V_of_France', '/wiki/Hugh_Capet', '/wiki/Robert_II_of_France', '/wiki/Henry_I_of_France', '/wiki/Philip_I_of_France', '/wiki/Louis_VI_of_France', '/wiki/Louis_VII_of_France', '/wiki/Philip_II_of_France', '/wiki/Louis_VIII_of_France', '/wiki/Louis_IX_of_France', '/wiki/Philip_III_of_France', '/wiki/Philip_IV_of_France', '/wiki/Louis_X_of_France', '/wiki/John_I_of_France', '/wiki/Philip_V_of_France', '/wiki/Charles_IV_of_France', '/wiki/Philip_VI_of_France', '/wiki/John_II_of_France', '/wiki/Charles_V_of_France', '/wiki/Charles_VI_of_France', '/wiki/Charles_VII_of_France', '/wiki/Louis_XI', '/wiki/Charles_VIII_of_France', '/wiki/Louis_XII', '/wiki/Francis_I_of_France', '/wiki/Henry_II_of_France', '/wiki/Francis_II_of_France', '/wiki/Charles_IX_of_France', '/wiki/Henry_III_of_France', '/wiki/Henry_VI_of_England', '/wiki/Henry_IV_of_France', '/wiki/Louis_XIII', '/wiki/Louis_XIV', '/wiki/Louis_XV', '/wiki/Louis_XVI', '/wiki/Louis_XVII', '/wiki/Napoleon', '/wiki/Napoleon_II', '/wiki/Louis_XVIII', '/wiki/Charles_X', '/wiki/Louis_Antoine,_Duke_of_Angoul%C3%AAme', '/wiki/Henri,_Count_of_Chambord', '/wiki/Louis_Philippe_I', '/wiki/Prince_Philippe,_Count_of_Paris', '/wiki/Napoleon_III']\n"
     ]
    }
   ],
   "source": [
    "# Kings of France\n",
    "print(get_monarch_list(\"https://en.wikipedia.org/wiki/List_of_French_monarchs\", 'Monarchs_of_France', ['navbox-list-with-group', 'navbox-list', 'hlist']))"
   ],
   "metadata": {
    "collapsed": false,
    "pycharm": {
     "name": "#%%\n"
    }
   }
  },
  {
   "cell_type": "code",
   "execution_count": 144,
   "outputs": [
    {
     "name": "stdout",
     "output_type": "stream",
     "text": [
      "['/wiki/Charlemagne', '/wiki/Louis_the_Pious', '/wiki/Lothair_I', '/wiki/Louis_II_of_Italy', '/wiki/Charles_the_Bald', '/wiki/Charles_the_Fat', '/wiki/Guy_III_of_Spoleto', '/wiki/Lambert_of_Italy', '/wiki/Arnulf_of_Carinthia', '/wiki/Louis_the_Blind', '/wiki/Berengar_I_of_Italy', '/wiki/Otto_the_Great', '/wiki/Otto_II,_Holy_Roman_Emperor', '/wiki/Otto_III,_Holy_Roman_Emperor', '/wiki/Henry_II,_Holy_Roman_Emperor', '/wiki/Conrad_II,_Holy_Roman_Emperor', '/wiki/Henry_III,_Holy_Roman_Emperor', '/wiki/Henry_IV,_Holy_Roman_Emperor', '/wiki/Henry_V,_Holy_Roman_Emperor', '/wiki/Lothair_III,_Holy_Roman_Emperor', '/wiki/Frederick_Barbarossa', '/wiki/Henry_VI,_Holy_Roman_Emperor', '/wiki/Otto_IV,_Holy_Roman_Emperor', '/wiki/Frederick_II,_Holy_Roman_Emperor', '/wiki/Henry_VII,_Holy_Roman_Emperor', '/wiki/Louis_IV,_Holy_Roman_Emperor', '/wiki/Charles_IV,_Holy_Roman_Emperor', '/wiki/Sigismund,_Holy_Roman_Emperor', '/wiki/Frederick_III,_Holy_Roman_Emperor', '/wiki/Maximilian_I,_Holy_Roman_Emperor', '/wiki/Charles_V,_Holy_Roman_Emperor', '/wiki/Ferdinand_I,_Holy_Roman_Emperor', '/wiki/Maximilian_II,_Holy_Roman_Emperor', '/wiki/Rudolf_II,_Holy_Roman_Emperor', '/wiki/Matthias,_Holy_Roman_Emperor', '/wiki/Ferdinand_II,_Holy_Roman_Emperor', '/wiki/Ferdinand_III,_Holy_Roman_Emperor', '/wiki/Leopold_I,_Holy_Roman_Emperor', '/wiki/Joseph_I,_Holy_Roman_Emperor', '/wiki/Charles_VI,_Holy_Roman_Emperor', '/wiki/Charles_VII,_Holy_Roman_Emperor', '/wiki/Francis_I,_Holy_Roman_Emperor', '/wiki/Joseph_II,_Holy_Roman_Emperor', '/wiki/Leopold_II,_Holy_Roman_Emperor', '/wiki/Francis_II,_Holy_Roman_Emperor', '/wiki/Category:Holy_Roman_Emperors']\n"
     ]
    }
   ],
   "source": [
    "# Holy Roman Emperors\n",
    "print(get_monarch_list(\"https://en.wikipedia.org/wiki/Holy_Roman_Emperor\", 'Holy_Roman_Emperors', ['navbox-list', 'hlist']))"
   ],
   "metadata": {
    "collapsed": false,
    "pycharm": {
     "name": "#%%\n"
    }
   }
  },
  {
   "cell_type": "code",
   "execution_count": 142,
   "outputs": [
    {
     "name": "stdout",
     "output_type": "stream",
     "text": [
      "['/wiki/Louis_the_German', '/wiki/Carloman_of_Bavaria', '/wiki/Louis_the_Younger', '/wiki/Charles_the_Fat', '/wiki/Arnulf_of_Carinthia', '/wiki/Louis_the_Child', '/wiki/Conrad_I_of_Germany', '/wiki/Henry_the_Fowler', '/wiki/Arnulf,_Duke_of_Bavaria', '/wiki/Otto_the_Great', '/wiki/Otto_II,_Holy_Roman_Emperor', '/wiki/Otto_III,_Holy_Roman_Emperor', '/wiki/Henry_II,_Holy_Roman_Emperor', '/wiki/Conrad_II,_Holy_Roman_Emperor', '/wiki/Henry_III,_Holy_Roman_Emperor', '/wiki/Henry_IV,_Holy_Roman_Emperor', '/wiki/Rudolf_of_Rheinfelden', '/wiki/Hermann_of_Salm', '/wiki/Conrad_II_of_Italy', '/wiki/Henry_V,_Holy_Roman_Emperor', '/wiki/Lothair_III,_Holy_Roman_Emperor', '/wiki/Conrad_III_of_Germany', '/wiki/Henry_Berengar', '/wiki/Frederick_Barbarossa', '/wiki/Henry_VI,_Holy_Roman_Emperor', '/wiki/Philip_of_Swabia', '/wiki/Otto_IV,_Holy_Roman_Emperor', '/wiki/Frederick_II,_Holy_Roman_Emperor', '/wiki/Henry_(VII)_of_Germany', '/wiki/Conrad_IV_of_Germany', '/wiki/Henry_Raspe', '/wiki/William_II_of_Holland', '/wiki/Richard_of_Cornwall', '/wiki/Alfonso_X_of_Castile', '/wiki/Rudolf_I_of_Germany', '/wiki/Adolf,_King_of_the_Romans', '/wiki/Albert_I_of_Germany', '/wiki/Henry_VII,_Holy_Roman_Emperor', '/wiki/Louis_IV,_Holy_Roman_Emperor', '/wiki/Frederick_the_Fair', '/wiki/Charles_IV,_Holy_Roman_Emperor', '/wiki/G%C3%BCnther_von_Schwarzburg', '/wiki/Wenceslaus_IV_of_Bohemia', '/wiki/Rupert,_King_of_the_Romans', '/wiki/Jobst_of_Moravia', '/wiki/Sigismund,_Holy_Roman_Emperor', '/wiki/Albert_II_of_Germany', '/wiki/Frederick_III,_Holy_Roman_Emperor', '/wiki/Maximilian_I,_Holy_Roman_Emperor', '/wiki/Charles_V,_Holy_Roman_Emperor', '/wiki/Ferdinand_I,_Holy_Roman_Emperor', '/wiki/Maximilian_II,_Holy_Roman_Emperor', '/wiki/Rudolf_II,_Holy_Roman_Emperor', '/wiki/Matthias,_Holy_Roman_Emperor', '/wiki/Ferdinand_II,_Holy_Roman_Emperor', '/wiki/Ferdinand_III,_Holy_Roman_Emperor', '/wiki/Ferdinand_IV,_King_of_the_Romans', '/wiki/Leopold_I,_Holy_Roman_Emperor', '/wiki/Joseph_I,_Holy_Roman_Emperor', '/wiki/Charles_VI,_Holy_Roman_Emperor', '/wiki/Charles_VII,_Holy_Roman_Emperor', '/wiki/Francis_I,_Holy_Roman_Emperor', '/wiki/Joseph_II,_Holy_Roman_Emperor', '/wiki/Leopold_II,_Holy_Roman_Emperor', '/wiki/Francis_II,_Holy_Roman_Emperor', '/wiki/Napoleon', '/wiki/Ferdinand_I_of_Austria', '/wiki/Archduke_John_of_Austria', '/wiki/Franz_Joseph_I_of_Austria', '/wiki/William_I,_German_Emperor', '/wiki/Frederick_III,_German_Emperor', '/wiki/Wilhelm_II,_German_Emperor']\n"
     ]
    }
   ],
   "source": [
    "# German Kings\n",
    "print(get_monarch_list(\"https://en.wikipedia.org/wiki/List_of_German_monarchs\", 'Monarchs_of_Germany', ['navbox-list-with-group', 'navbox-list', 'hlist']))"
   ],
   "metadata": {
    "collapsed": false,
    "pycharm": {
     "name": "#%%\n"
    }
   }
  },
  {
   "cell_type": "code",
   "execution_count": 155,
   "outputs": [
    {
     "name": "stdout",
     "output_type": "stream",
     "text": [
      "['/wiki/Isabella_I_of_Castile', '/wiki/Ferdinand_II_of_Aragon', '/wiki/Joanna_of_Castile', '/wiki/Philip_I_of_Castile', '/wiki/Charles_V,_Holy_Roman_Emperor', '/wiki/Philip_II_of_Spain', '/wiki/Philip_III_of_Spain', '/wiki/Philip_IV_of_Spain', '/wiki/Charles_II_of_Spain', '/wiki/Charles_VI,_Holy_Roman_Emperor', '/wiki/Philip_V_of_Spain', '/wiki/Louis_I_of_Spain', '/wiki/Ferdinand_VI_of_Spain', '/wiki/Charles_III_of_Spain', '/wiki/Charles_IV_of_Spain', '/wiki/Ferdinand_VII_of_Spain', '/wiki/Joseph_Bonaparte', '/wiki/Isabella_II_of_Spain', '/wiki/Amadeo_I_of_Spain', '/wiki/Alfonso_XII', '/wiki/Alfonso_XIII']\n"
     ]
    }
   ],
   "source": [
    "# Spanish Monarchs\n",
    "# print(get_monarch_list(\"https://en.wikipedia.org/wiki/List_of_Spanish_monarchs\", 'Monarchs_of_Spain', 'navbox-list navbox-odd hlist'))\n",
    "response = requests.get(\n",
    "\turl=\"https://en.wikipedia.org/wiki/List_of_Spanish_monarchs\",\n",
    ")\n",
    "soup = BeautifulSoup(response.content, 'html.parser')\n",
    "tr_tags = soup.find_all('tr')\n",
    "td_tags = []\n",
    "for tr_tag in tr_tags:\n",
    "    temp = tr_tag.find_all('td')\n",
    "    if len(temp) >= 3:\n",
    "        td_tags.append(temp[0])\n",
    "        td_tags.append(temp[1])\n",
    "        td_tags.append(temp[2])\n",
    "spanish_monarchs = []\n",
    "for td_tag in td_tags:\n",
    "    a_tag = td_tag.find('a')\n",
    "    if a_tag:\n",
    "        href = a_tag.get('href')\n",
    "        spanish_monarchs.append(href)\n",
    "    else:\n",
    "        b_tags = td_tag.find_all('b')\n",
    "        for b_tag in b_tags:\n",
    "            a_tag = b_tag.find('a')\n",
    "            if a_tag:\n",
    "                href = a_tag.get('href')\n",
    "                spanish_monarchs.append(href)\n",
    "spanish_monarchs = [h for h in spanish_monarchs if h.startswith('/wiki/') and not h.startswith('/wiki/File:') and not h.startswith('/wiki/Pope')][:-3]\n",
    "spanish_monarchs = [x for i, x in enumerate(spanish_monarchs) if x not in spanish_monarchs[:i]]\n",
    "print(spanish_monarchs)"
   ],
   "metadata": {
    "collapsed": false,
    "pycharm": {
     "name": "#%%\n"
    }
   }
  },
  {
   "cell_type": "code",
   "execution_count": 140,
   "outputs": [
    {
     "name": "stdout",
     "output_type": "stream",
     "text": [
      "['/wiki/Yuri_I_Dolgorukiy', '/wiki/Andrey_Bogolyubsky', '/wiki/Mikhail_of_Vladimir', '/wiki/Vsevolod_the_Big_Nest', '/wiki/Yuri_II_of_Vladimir', '/wiki/Konstantin_of_Rostov', '/wiki/Yaroslav_II_of_Vladimir', '/wiki/Sviatoslav_III_of_Vladimir', '/wiki/Andrey_II_of_Vladimir', '/wiki/Alexander_Nevsky', '/wiki/Yaroslav_of_Tver', '/wiki/Vasily_of_Kostroma', '/wiki/Dmitry_of_Pereslavl', '/wiki/Andrey_of_Gorodets', '/wiki/Mikhail_of_Tver', '/wiki/Yury_of_Moscow', '/wiki/Dmitry_of_Tver', '/wiki/Aleksandr_Mikhailovich_of_Tver', '/wiki/Ivan_I_of_Moscow', '/wiki/Simeon_of_Moscow', '/wiki/Ivan_II_of_Moscow', '/wiki/Dmitry_of_Suzdal', '/wiki/Dmitry_Donskoy', '/wiki/Vasily_I_of_Moscow', '/wiki/Vasily_II_of_Moscow', '/wiki/Ivan_III_of_Russia', '/wiki/Vasili_III_of_Russia', '/wiki/Ivan_the_Terrible', '/wiki/Simeon_Bekbulatovich', '/wiki/Feodor_I_of_Russia', '/wiki/Irina_Godunova', '/wiki/Boris_Godunov', '/wiki/Feodor_II_of_Russia', '/wiki/False_Dmitry_I', '/wiki/Vasili_IV_of_Russia', '/wiki/W%C5%82adys%C5%82aw_IV_Vasa', '/wiki/Michael_of_Russia', '/wiki/Alexis_of_Russia', '/wiki/Feodor_III_of_Russia', '/wiki/Peter_the_Great', '/wiki/Catherine_I_of_Russia', '/wiki/Peter_II_of_Russia', '/wiki/Anna_of_Russia', '/wiki/Ivan_VI_of_Russia', '/wiki/Elizabeth_of_Russia', '/wiki/Peter_III_of_Russia', '/wiki/Catherine_the_Great', '/wiki/Paul_I_of_Russia', '/wiki/Alexander_I_of_Russia', '/wiki/Nicholas_I_of_Russia', '/wiki/Alexander_II_of_Russia', '/wiki/Alexander_III_of_Russia', '/wiki/Nicholas_II_of_Russia']\n"
     ]
    }
   ],
   "source": [
    "# Russian Monarchs\n",
    "print(get_monarch_list(\"https://en.wikipedia.org/wiki/List_of_Russian_monarchs\", 'List_of_Russian_monarchs', ['navbox-list-with-group', 'navbox-list', 'hlist']))"
   ],
   "metadata": {
    "collapsed": false,
    "pycharm": {
     "name": "#%%\n"
    }
   }
  },
  {
   "cell_type": "code",
   "execution_count": 133,
   "outputs": [
    {
     "name": "stdout",
     "output_type": "stream",
     "text": [
      "['/wiki/Eric_the_Victorious', '/wiki/Olof_Sk%C3%B6tkonung', '/wiki/Anund_Jacob', '/wiki/Emund_the_Old', '/wiki/Eric_the_Victorious', '/wiki/Olof_Sk%C3%B6tkonung', '/wiki/Anund_Jacob', '/wiki/Emund_the_Old', '/wiki/Stenkil', '/wiki/Eric_and_Eric', '/wiki/Halsten_Stenkilsson', '/wiki/Anund_G%C3%A5rdske', '/wiki/H%C3%A5kan_the_Red', '/wiki/Halsten_Stenkilsson', '/wiki/Blot-Sweyn', '/wiki/Inge_the_Elder', '/wiki/Philip_of_Sweden', '/wiki/Ragnvald_Knaph%C3%B6vde', '/wiki/Magnus_I_of_Sweden', '/wiki/Stenkil', '/wiki/Eric_and_Eric', '/wiki/Halsten_Stenkilsson', '/wiki/Anund_G%C3%A5rdske', '/wiki/H%C3%A5kan_the_Red', '/wiki/Halsten_Stenkilsson', '/wiki/Blot-Sweyn', '/wiki/Inge_the_Elder', '/wiki/Philip_of_Sweden', '/wiki/Ragnvald_Knaph%C3%B6vde', '/wiki/Magnus_I_of_Sweden', '/wiki/Sverker_I_of_Sweden', '/wiki/Eric_IX_of_Sweden', '/wiki/Magnus_II_of_Sweden', '/wiki/Charles_VII_of_Sweden', '/wiki/Kol_of_Sweden', '/wiki/Canute_I_of_Sweden', '/wiki/Sverker_II_of_Sweden', '/wiki/Eric_X_of_Sweden', '/wiki/John_I_of_Sweden', '/wiki/Eric_XI_of_Sweden', '/wiki/Canute_II_of_Sweden', '/wiki/Eric_XI_of_Sweden', '/wiki/Sverker_I_of_Sweden', '/wiki/Eric_IX_of_Sweden', '/wiki/Magnus_II_of_Sweden', '/wiki/Charles_VII_of_Sweden', '/wiki/Kol_of_Sweden', '/wiki/Canute_I_of_Sweden', '/wiki/Sverker_II_of_Sweden', '/wiki/Eric_X_of_Sweden', '/wiki/John_I_of_Sweden', '/wiki/Eric_XI_of_Sweden', '/wiki/Canute_II_of_Sweden', '/wiki/Eric_XI_of_Sweden', '/wiki/Valdemar,_King_of_Sweden', '/wiki/Magnus_III_of_Sweden', '/wiki/Birger,_King_of_Sweden', '/wiki/Ingeborg_of_Norway', '/wiki/Magnus_IV_of_Sweden', '/wiki/Eric_XII_of_Sweden', '/wiki/Magnus_IV_of_Sweden', '/wiki/Valdemar,_King_of_Sweden', '/wiki/Magnus_III_of_Sweden', '/wiki/Birger,_King_of_Sweden', '/wiki/Ingeborg_of_Norway', '/wiki/Magnus_IV_of_Sweden', '/wiki/Eric_XII_of_Sweden', '/wiki/Magnus_IV_of_Sweden', '/wiki/Albert,_King_of_Sweden', '/wiki/Albert,_King_of_Sweden', '/wiki/Margaret_I_of_Denmark', '/wiki/Eric_of_Pomerania', '/wiki/Charles_VIII_of_Sweden', '/wiki/Eric_of_Pomerania', '/wiki/Charles_VIII_of_Sweden', '/wiki/Christopher_of_Bavaria', '/wiki/Bengt_J%C3%B6nsson_(Oxenstierna)', '/wiki/Charles_VIII_of_Sweden', '/wiki/J%C3%B6ns_Bengtsson_Oxenstierna', '/wiki/Christian_I_of_Denmark', '/wiki/Kettil_Karlsson_(Vasa)', '/wiki/Charles_VIII_of_Sweden', '/wiki/Kettil_Karlsson_(Vasa)', '/wiki/J%C3%B6ns_Bengtsson_Oxenstierna', '/wiki/Erik_Axelsson_Tott', '/wiki/Charles_VIII_of_Sweden', '/wiki/Sten_Sture_the_Elder', '/wiki/John,_King_of_Denmark', '/wiki/Sten_Sture_the_Elder', '/wiki/Svante_Nilsson_(regent_of_Sweden)', '/wiki/Eric_Trolle', '/wiki/Sten_Sture_the_Younger', '/wiki/Christian_II_of_Denmark', '/wiki/Gustav_I_of_Sweden', '/wiki/Margaret_I_of_Denmark', '/wiki/Eric_of_Pomerania', '/wiki/Charles_VIII_of_Sweden', '/wiki/Eric_of_Pomerania', '/wiki/Charles_VIII_of_Sweden', '/wiki/Christopher_of_Bavaria', '/wiki/Bengt_J%C3%B6nsson_(Oxenstierna)', '/wiki/Charles_VIII_of_Sweden', '/wiki/J%C3%B6ns_Bengtsson_Oxenstierna', '/wiki/Christian_I_of_Denmark', '/wiki/Kettil_Karlsson_(Vasa)', '/wiki/Charles_VIII_of_Sweden', '/wiki/Kettil_Karlsson_(Vasa)', '/wiki/J%C3%B6ns_Bengtsson_Oxenstierna', '/wiki/Erik_Axelsson_Tott', '/wiki/Charles_VIII_of_Sweden', '/wiki/Sten_Sture_the_Elder', '/wiki/John,_King_of_Denmark', '/wiki/Sten_Sture_the_Elder', '/wiki/Svante_Nilsson_(regent_of_Sweden)', '/wiki/Eric_Trolle', '/wiki/Sten_Sture_the_Younger', '/wiki/Christian_II_of_Denmark', '/wiki/Gustav_I_of_Sweden', '/wiki/Gustav_I_of_Sweden', '/wiki/Eric_XIV_of_Sweden', '/wiki/John_III_of_Sweden', '/wiki/Sigismund_III_Vasa', '/wiki/Charles_IX_of_Sweden', '/wiki/Gustavus_Adolphus', '/wiki/Christina,_Queen_of_Sweden', '/wiki/Gustav_I_of_Sweden', '/wiki/Eric_XIV_of_Sweden', '/wiki/John_III_of_Sweden', '/wiki/Sigismund_III_Vasa', '/wiki/Charles_IX_of_Sweden', '/wiki/Gustavus_Adolphus', '/wiki/Christina,_Queen_of_Sweden', '/wiki/Charles_X_Gustav_of_Sweden', '/wiki/Charles_XI_of_Sweden', '/wiki/Charles_XII_of_Sweden', '/wiki/Ulrika_Eleonora_of_Sweden', '/wiki/Frederick_I_of_Sweden', '/wiki/Charles_X_Gustav_of_Sweden', '/wiki/Charles_XI_of_Sweden', '/wiki/Charles_XII_of_Sweden', '/wiki/Ulrika_Eleonora_of_Sweden', '/wiki/Frederick_I_of_Sweden', '/wiki/Adolf_Frederick_of_Sweden', '/wiki/Gustav_III', '/wiki/Gustav_IV_Adolf', '/wiki/Charles_XIII', '/wiki/Adolf_Frederick_of_Sweden', '/wiki/Gustav_III', '/wiki/Gustav_IV_Adolf', '/wiki/Charles_XIII', '/wiki/Charles_XIV_John', '/wiki/Oscar_I_of_Sweden', '/wiki/Charles_XV', '/wiki/Oscar_II', '/wiki/Gustaf_V', '/wiki/Gustaf_VI_Adolf', '/wiki/Carl_XVI_Gustaf', '/wiki/Charles_XIV_John', '/wiki/Oscar_I_of_Sweden', '/wiki/Charles_XV', '/wiki/Oscar_II', '/wiki/Gustaf_V', '/wiki/Gustaf_VI_Adolf', '/wiki/Carl_XVI_Gustaf']\n"
     ]
    }
   ],
   "source": [
    "# Swedish Monarchs\n",
    "print(get_monarch_list(\"https://en.wikipedia.org/wiki/List_of_Swedish_monarchs\", 'Monarchs_of_Sweden', ['navbox-list-with-group', 'navbox-list']))"
   ],
   "metadata": {
    "collapsed": false,
    "pycharm": {
     "name": "#%%\n"
    }
   }
  },
  {
   "cell_type": "code",
   "execution_count": 134,
   "outputs": [
    {
     "name": "stdout",
     "output_type": "stream",
     "text": [
      "['/wiki/Harthacnut_I_of_Denmark', '/wiki/Gorm_the_Old', '/wiki/Harald_Bluetooth', '/wiki/Sweyn_Forkbeard', '/wiki/Harald_II_of_Denmark', '/wiki/Cnut', '/wiki/Harthacnut', '/wiki/Harthacnut_I_of_Denmark', '/wiki/Gorm_the_Old', '/wiki/Harald_Bluetooth', '/wiki/Sweyn_Forkbeard', '/wiki/Harald_II_of_Denmark', '/wiki/Cnut', '/wiki/Harthacnut', '/wiki/Magnus_the_Good', '/wiki/Magnus_the_Good', '/wiki/Sweyn_II_of_Denmark', '/wiki/Harald_III_of_Denmark', '/wiki/Canute_IV_of_Denmark', '/wiki/Olaf_I_of_Denmark', '/wiki/Eric_I_of_Denmark', '/wiki/Niels,_King_of_Denmark', '/wiki/Eric_II_of_Denmark', '/wiki/Eric_III_of_Denmark', '/wiki/Sweyn_III_of_Denmark', '/wiki/Canute_VI_of_Denmark', '/wiki/Valdemar_II_of_Denmark', '/wiki/Eric_IV_of_Denmark', '/wiki/Abel,_King_of_Denmark', '/wiki/Christopher_I_of_Denmark', '/wiki/Eric_V_of_Denmark', '/wiki/Eric_VI_of_Denmark', '/wiki/Christopher_II_of_Denmark', '/wiki/Valdemar_III_of_Denmark', '/wiki/Valdemar_IV_of_Denmark', '/wiki/Sweyn_II_of_Denmark', '/wiki/Harald_III_of_Denmark', '/wiki/Canute_IV_of_Denmark', '/wiki/Olaf_I_of_Denmark', '/wiki/Eric_I_of_Denmark', '/wiki/Niels,_King_of_Denmark', '/wiki/Eric_II_of_Denmark', '/wiki/Eric_III_of_Denmark', '/wiki/Sweyn_III_of_Denmark', '/wiki/Canute_VI_of_Denmark', '/wiki/Valdemar_II_of_Denmark', '/wiki/Eric_IV_of_Denmark', '/wiki/Abel,_King_of_Denmark', '/wiki/Christopher_I_of_Denmark', '/wiki/Eric_V_of_Denmark', '/wiki/Eric_VI_of_Denmark', '/wiki/Christopher_II_of_Denmark', '/wiki/Valdemar_III_of_Denmark', '/wiki/Valdemar_IV_of_Denmark', '/wiki/Olaf_II_of_Denmark', '/wiki/Olaf_II_of_Denmark', '/wiki/Margaret_I_of_Denmark', '/wiki/Margaret_I_of_Denmark', '/wiki/Eric_of_Pomerania', '/wiki/Eric_of_Pomerania', '/wiki/Christopher_of_Bavaria', '/wiki/Christopher_of_Bavaria', '/wiki/Christian_I_of_Denmark', '/wiki/John,_King_of_Denmark', '/wiki/Christian_II_of_Denmark', '/wiki/Frederick_I_of_Denmark', '/wiki/Christian_III_of_Denmark', '/wiki/Frederick_II_of_Denmark', '/wiki/Christian_IV_of_Denmark', '/wiki/Frederick_III_of_Denmark', '/wiki/Christian_V_of_Denmark', '/wiki/Frederick_IV_of_Denmark', '/wiki/Christian_VI_of_Denmark', '/wiki/Frederick_V_of_Denmark', '/wiki/Christian_VII_of_Denmark', '/wiki/Frederick_VI_of_Denmark', '/wiki/Christian_VIII_of_Denmark', '/wiki/Frederick_VII_of_Denmark', '/wiki/Christian_IX_of_Denmark', '/wiki/Frederick_VIII_of_Denmark', '/wiki/Christian_X_of_Denmark', '/wiki/Frederick_IX_of_Denmark', '/wiki/Margrethe_II_of_Denmark', '/wiki/Christian_I_of_Denmark', '/wiki/John,_King_of_Denmark', '/wiki/Christian_II_of_Denmark', '/wiki/Frederick_I_of_Denmark', '/wiki/Christian_III_of_Denmark', '/wiki/Frederick_II_of_Denmark', '/wiki/Christian_IV_of_Denmark', '/wiki/Frederick_III_of_Denmark', '/wiki/Christian_V_of_Denmark', '/wiki/Frederick_IV_of_Denmark', '/wiki/Christian_VI_of_Denmark', '/wiki/Frederick_V_of_Denmark', '/wiki/Christian_VII_of_Denmark', '/wiki/Frederick_VI_of_Denmark', '/wiki/Christian_VIII_of_Denmark', '/wiki/Frederick_VII_of_Denmark', '/wiki/Christian_IX_of_Denmark', '/wiki/Frederick_VIII_of_Denmark', '/wiki/Christian_X_of_Denmark', '/wiki/Frederick_IX_of_Denmark', '/wiki/Margrethe_II_of_Denmark']\n"
     ]
    }
   ],
   "source": [
    "# Danish Monarchs\n",
    "print(get_monarch_list(\"https://en.wikipedia.org/wiki/List_of_Danish_monarchs\", 'Monarchs_of_Denmark', ['navbox-list-with-group', 'navbox-list']))"
   ],
   "metadata": {
    "collapsed": false,
    "pycharm": {
     "name": "#%%\n"
    }
   }
  },
  {
   "cell_type": "code",
   "execution_count": 137,
   "outputs": [
    {
     "name": "stdout",
     "output_type": "stream",
     "text": [
      "['/wiki/Drest_I', '/wiki/Talorc_I', '/wiki/Nechtan_Morbet', '/wiki/Drest_Gurthinmoch', '/wiki/Galan_Erilich', '/wiki/Drest_III', '/wiki/Drest_IV', '/wiki/Gartnait_I', '/wiki/Cailtram', '/wiki/Talorc_II', '/wiki/Drest_V', '/wiki/Galam_Cennalath', '/wiki/Bridei_I', '/wiki/Gartnait_II', '/wiki/Nechtan_nepos_Uerb', '/wiki/Cinioch', '/wiki/Gartnait_III', '/wiki/Bridei_II', '/wiki/Talorc_III', '/wiki/Talorgan_I', '/wiki/Gartnait_IV', '/wiki/Drest_VI', '/wiki/Bridei_III', '/wiki/Taran_mac_Ainftech', '/wiki/Bridei_IV', '/wiki/Nechtan_mac_Der-Ilei', '/wiki/Drest_VII', '/wiki/Alp%C3%ADn_I_of_the_Picts', '/wiki/%C3%93engus_I', '/wiki/Bridei_V', '/wiki/Ciniod_I', '/wiki/Alp%C3%ADn_II_of_the_Picts', '/wiki/Talorgan_II', '/wiki/Drest_VIII', '/wiki/Conall_mac_Taidg', '/wiki/Causant%C3%ADn_mac_Fergusa', '/wiki/%C3%93engus_II', '/wiki/Drest_IX', '/wiki/E%C3%B3ganan_mac_%C3%93engusa', '/wiki/Uurad', '/wiki/Bridei_VI', '/wiki/Ciniod_II', '/wiki/Bridei_VII', '/wiki/Drest_X', '/wiki/Kenneth_MacAlpin', '/wiki/Domnall_mac_Ailp%C3%ADn', '/wiki/Causant%C3%ADn_mac_Cin%C3%A1eda', '/wiki/%C3%81ed_mac_Cin%C3%A1eda', '/wiki/Giric', '/wiki/Eochaid_(son_of_Rhun)', '/wiki/Donald_II_of_Scotland', '/wiki/Constantine_II_of_Scotland', '/wiki/Malcolm_I_of_Scotland', '/wiki/Indulf', '/wiki/Dub,_King_of_Scotland', '/wiki/Cuil%C3%A9n', '/wiki/Amla%C3%ADb,_King_of_Scotland', '/wiki/Kenneth_II_of_Scotland', '/wiki/Constantine_III_of_Scotland', '/wiki/Kenneth_III_of_Scotland', '/wiki/Malcolm_II_of_Scotland', '/wiki/Duncan_I_of_Scotland', '/wiki/Macbeth,_King_of_Scotland', '/wiki/Lulach', '/wiki/Malcolm_III_of_Scotland', '/wiki/Donald_III_of_Scotland', '/wiki/Duncan_II_of_Scotland', '/wiki/Donald_III_of_Scotland', '/wiki/Edgar,_King_of_Scotland', '/wiki/Alexander_I_of_Scotland', '/wiki/David_I_of_Scotland', '/wiki/Malcolm_IV_of_Scotland', '/wiki/William_the_Lion', '/wiki/Alexander_II_of_Scotland', '/wiki/Alexander_III_of_Scotland', '/wiki/Margaret,_Maid_of_Norway', '/wiki/Guardian_of_Scotland', '/wiki/John_Balliol', '/wiki/Guardian_of_Scotland', '/wiki/Robert_the_Bruce', '/wiki/David_II_of_Scotland', '/wiki/Robert_II_of_Scotland', '/wiki/Robert_III_of_Scotland', '/wiki/James_I_of_Scotland', '/wiki/James_II_of_Scotland', '/wiki/James_III_of_Scotland', '/wiki/James_IV_of_Scotland', '/wiki/James_V_of_Scotland', '/wiki/Mary,_Queen_of_Scots', '/wiki/James_VI_and_I', '/wiki/Charles_I_of_England', '/wiki/Charles_II_of_England', '/wiki/James_II_of_England', '/wiki/Mary_II_of_England', '/wiki/William_III_of_England', '/wiki/Anne,_Queen_of_Great_Britain']\n"
     ]
    }
   ],
   "source": [
    "# Scottish Monarchs\n",
    "print(get_monarch_list(\"https://en.wikipedia.org/wiki/List_of_Scottish_monarchs\", 'Pictish_and_Scottish_monarchs', ['navbox-list-with-group', 'navbox-list']))"
   ],
   "metadata": {
    "collapsed": false,
    "pycharm": {
     "name": "#%%\n"
    }
   }
  },
  {
   "cell_type": "code",
   "execution_count": 146,
   "outputs": [
    {
     "name": "stdout",
     "output_type": "stream",
     "text": [
      "['/wiki/Harald_Fairhair', '/wiki/Eric_Bloodaxe', '/wiki/Haakon_the_Good', '/wiki/Harald_Greycloak', '/wiki/Harald_Bluetooth', '/wiki/Olaf_Tryggvason', '/wiki/Sweyn_Forkbeard', '/wiki/Olaf_II_of_Norway', '/wiki/Cnut', '/wiki/Magnus_the_Good', '/wiki/Harald_Hardrada', '/wiki/Magnus_II_of_Norway', '/wiki/Olaf_III_of_Norway', '/wiki/Haakon_Magnusson_of_Norway', '/wiki/Magnus_Barefoot', '/wiki/Olav_Magnusson_of_Norway', '/wiki/Eystein_I_of_Norway', '/wiki/Sigurd_the_Crusader', '/wiki/Harald_Gille', '/wiki/Magnus_IV_of_Norway', '/wiki/Sigurd_II_of_Norway', '/wiki/Inge_I_of_Norway', '/wiki/Eystein_II_of_Norway', '/wiki/Magnus_Haraldsson_of_Norway', '/wiki/Haakon_II_of_Norway', '/wiki/Magnus_V_of_Norway', '/wiki/Sverre_of_Norway', '/wiki/Haakon_III_of_Norway', '/wiki/Guttorm_of_Norway', '/wiki/Inge_II_of_Norway', '/wiki/Haakon_IV_of_Norway', '/wiki/Haakon_the_Young', '/wiki/Magnus_VI_of_Norway', '/wiki/Eric_II_of_Norway', '/wiki/Haakon_V_of_Norway', '/wiki/Magnus_IV_of_Sweden', '/wiki/Haakon_VI_of_Norway', '/wiki/Olaf_II_of_Denmark', '/wiki/Margaret_I_of_Denmark', '/wiki/Eric_of_Pomerania', '/wiki/Christopher_of_Bavaria', '/wiki/Charles_VIII_of_Sweden', '/wiki/Christian_I_of_Denmark', '/wiki/John,_King_of_Denmark', '/wiki/Christian_II_of_Denmark', '/wiki/Frederick_I_of_Denmark', '/wiki/Christian_III_of_Denmark', '/wiki/Frederick_II_of_Denmark', '/wiki/Christian_IV_of_Denmark', '/wiki/Frederick_III_of_Denmark', '/wiki/Christian_V_of_Denmark', '/wiki/Frederick_IV_of_Denmark', '/wiki/Christian_VI_of_Denmark', '/wiki/Frederick_V_of_Denmark', '/wiki/Christian_VII_of_Denmark', '/wiki/Frederick_VI_of_Denmark', '/wiki/Christian_VIII_of_Denmark', '/wiki/Charles_XIII', '/wiki/Charles_XIV_John', '/wiki/Oscar_I_of_Sweden', '/wiki/Charles_XV', '/wiki/Oscar_II', '/wiki/Haakon_VII_of_Norway', '/wiki/Olav_V_of_Norway', '/wiki/Harald_V_of_Norway']\n"
     ]
    }
   ],
   "source": [
    "# Norwegian Monarchs\n",
    "print(get_monarch_list(\"https://en.wikipedia.org/wiki/List_of_Norwegian_monarchs\", 'Monarchs_of_Norway', ['navbox-list-with-group', 'navbox-list']))"
   ],
   "metadata": {
    "collapsed": false,
    "pycharm": {
     "name": "#%%\n"
    }
   }
  },
  {
   "cell_type": "code",
   "execution_count": 147,
   "outputs": [
    {
     "name": "stdout",
     "output_type": "stream",
     "text": [
      "['/wiki/Haakon_IV_of_Norway', '/wiki/Magnus_VI_of_Norway', '/wiki/Eric_II_of_Norway', '/wiki/Haakon_V_of_Norway', '/wiki/Magnus_IV_of_Sweden', '/wiki/Haakon_VI_of_Norway', '/wiki/Olaf_II_of_Denmark', '/wiki/Margaret_I_of_Denmark', '/wiki/Eric_of_Pomerania', '/wiki/Christopher_of_Bavaria', '/wiki/Charles_VIII_of_Sweden', '/wiki/Christian_I_of_Denmark', '/wiki/John,_King_of_Denmark', '/wiki/Christian_II_of_Denmark', '/wiki/Frederick_I_of_Denmark', '/wiki/Christian_III_of_Denmark', '/wiki/Frederick_II_of_Denmark', '/wiki/Christian_IV_of_Denmark', '/wiki/Frederick_III_of_Denmark', '/wiki/Christian_V_of_Denmark', '/wiki/Frederick_IV_of_Denmark', '/wiki/Christian_VI_of_Denmark', '/wiki/Frederick_V_of_Denmark', '/wiki/Christian_VII_of_Denmark', '/wiki/Frederick_VI_of_Denmark', '/wiki/Christian_VIII_of_Denmark', '/wiki/Frederick_VII_of_Denmark', '/wiki/Christian_IX_of_Denmark', '/wiki/Frederick_VIII_of_Denmark', '/wiki/Christian_X_of_Denmark']\n"
     ]
    }
   ],
   "source": [
    "# Icelanic Monarchs\n",
    "print(get_monarch_list(\"https://en.wikipedia.org/wiki/Lists_of_heads_of_state_of_Iceland\", 'Monarchs_of_Iceland', ['navbox-list-with-group', 'navbox-list']))"
   ],
   "metadata": {
    "collapsed": false,
    "pycharm": {
     "name": "#%%\n"
    }
   }
  },
  {
   "cell_type": "code",
   "execution_count": 148,
   "outputs": [
    {
     "name": "stdout",
     "output_type": "stream",
     "text": [
      "['/wiki/Bo%C5%99ivoj_I,_Duke_of_Bohemia', '/wiki/Spytihn%C4%9Bv_I,_Duke_of_Bohemia', '/wiki/Vratislaus_I,_Duke_of_Bohemia', '/wiki/Wenceslaus_I,_Duke_of_Bohemia', '/wiki/Boleslaus_I,_Duke_of_Bohemia', '/wiki/Boleslaus_II,_Duke_of_Bohemia', '/wiki/Boleslaus_III,_Duke_of_Bohemia', '/wiki/Vladivoj,_Duke_of_Bohemia', '/wiki/Boles%C5%82aw_I_the_Brave', '/wiki/Jarom%C3%ADr,_Duke_of_Bohemia', '/wiki/Old%C5%99ich,_Duke_of_Bohemia', '/wiki/Bretislav_I', '/wiki/Spytihn%C4%9Bv_II,_Duke_of_Bohemia', '/wiki/Vratislaus_II,_Duke_of_Bohemia', '/wiki/Conrad_I,_Duke_of_Bohemia', '/wiki/Bretislav_II', '/wiki/Bo%C5%99ivoj_II,_Duke_of_Bohemia', '/wiki/Svatopluk,_Duke_of_Bohemia', '/wiki/Vladislaus_I,_Duke_of_Bohemia', '/wiki/Sob%C4%9Bslav_I,_Duke_of_Bohemia', '/wiki/Vladislaus_II,_Duke_of_Bohemia', '/wiki/Frederick,_Duke_of_Bohemia', '/wiki/Sob%C4%9Bslav_II,_Duke_of_Bohemia', '/wiki/Conrad_II,_Duke_of_Bohemia', '/wiki/Wenceslaus_II,_Duke_of_Bohemia', '/wiki/Ottokar_I_of_Bohemia', '/wiki/Bretislaus_III,_Duke_of_Bohemia', '/wiki/Vladislaus_III,_Duke_of_Bohemia', '/wiki/Wenceslaus_I_of_Bohemia', '/wiki/Ottokar_II_of_Bohemia', '/wiki/Wenceslaus_II_of_Bohemia', '/wiki/Wenceslaus_III_of_Bohemia', '/wiki/Henry_of_Bohemia', '/wiki/Rudolf_I_of_Bohemia', '/wiki/John_of_Bohemia', '/wiki/Charles_IV,_Holy_Roman_Emperor', '/wiki/Wenceslaus_IV_of_Bohemia', '/wiki/Sigismund,_Holy_Roman_Emperor', '/wiki/Albert_II_of_Germany', '/wiki/Ladislaus_the_Posthumous', '/wiki/George_of_Pod%C4%9Bbrady', '/wiki/Matthias_Corvinus', '/wiki/Vladislaus_II_of_Hungary', '/wiki/Louis_II_of_Hungary', '/wiki/Ferdinand_I,_Holy_Roman_Emperor', '/wiki/Maximilian_II,_Holy_Roman_Emperor', '/wiki/Rudolf_II,_Holy_Roman_Emperor', '/wiki/Matthias,_Holy_Roman_Emperor', '/wiki/Ferdinand_II,_Holy_Roman_Emperor', '/wiki/Frederick_V,_Elector_Palatine', '/wiki/Ferdinand_III,_Holy_Roman_Emperor', '/wiki/Leopold_I,_Holy_Roman_Emperor', '/wiki/Joseph_I,_Holy_Roman_Emperor', '/wiki/Charles_VI,_Holy_Roman_Emperor', '/wiki/Charles_VII,_Holy_Roman_Emperor', '/wiki/Maria_Theresa', '/wiki/Joseph_II,_Holy_Roman_Emperor', '/wiki/Leopold_II,_Holy_Roman_Emperor', '/wiki/Francis_II,_Holy_Roman_Emperor', '/wiki/Ferdinand_I_of_Austria', '/wiki/Franz_Joseph_I_of_Austria', '/wiki/Charles_I_of_Austria']\n"
     ]
    }
   ],
   "source": [
    "# List_of_Bohemian_monarchs\n",
    "print(get_monarch_list(\"https://en.wikipedia.org/wiki/List_of_Bohemian_monarchs\", 'Monarchs_of_Bohemia', ['navbox-list-with-group', 'navbox-list']))"
   ],
   "metadata": {
    "collapsed": false,
    "pycharm": {
     "name": "#%%\n"
    }
   }
  },
  {
   "cell_type": "code",
   "execution_count": 149,
   "outputs": [
    {
     "name": "stdout",
     "output_type": "stream",
     "text": [
      "['/wiki/Leopold_I,_Margrave_of_Austria', '/wiki/Henry_I,_Margrave_of_Austria', '/wiki/Adalbert,_Margrave_of_Austria', '/wiki/Ernest,_Margrave_of_Austria', '/wiki/Leopold_II,_Margrave_of_Austria', '/wiki/Leopold_III,_Margrave_of_Austria', '/wiki/Leopold,_Duke_of_Bavaria', '/wiki/Henry_II,_Duke_of_Austria', '/wiki/Leopold_V,_Duke_of_Austria', '/wiki/Frederick_I,_Duke_of_Austria_(Babenberg)', '/wiki/Leopold_VI,_Duke_of_Austria', '/wiki/Frederick_II,_Duke_of_Austria', '/wiki/Vladislaus_III_of_Moravia', '/wiki/Herman_VI,_Margrave_of_Baden', '/wiki/Frederick_I,_Margrave_of_Baden', '/wiki/Ottokar_II_of_Bohemia', '/wiki/Rudolf_I_of_Germany', '/wiki/Albert_I_of_Germany', '/wiki/Rudolf_II,_Duke_of_Austria', '/wiki/Rudolf_I_of_Bohemia', '/wiki/Frederick_the_Fair', '/wiki/Leopold_I,_Duke_of_Austria', '/wiki/Albert_II,_Duke_of_Austria', '/wiki/Otto,_Duke_of_Austria', '/wiki/Leopold_II,_Duke_of_Austria', '/wiki/Rudolf_IV,_Duke_of_Austria', '/wiki/Leopold_III,_Duke_of_Austria', '/wiki/Albert_III,_Duke_of_Austria', '/wiki/Albert_IV,_Duke_of_Austria', '/wiki/Albert_II_of_Germany', '/wiki/Ladislaus_the_Posthumous', '/wiki/Frederick_III,_Holy_Roman_Emperor', '/wiki/Maximilian_I,_Holy_Roman_Emperor', '/wiki/Charles_V,_Holy_Roman_Emperor', '/wiki/Ferdinand_I,_Holy_Roman_Emperor', '/wiki/Maximilian_II,_Holy_Roman_Emperor', '/wiki/Rudolf_II,_Holy_Roman_Emperor', '/wiki/Matthias,_Holy_Roman_Emperor', '/wiki/Albert_VII,_Archduke_of_Austria', '/wiki/Ferdinand_II,_Holy_Roman_Emperor', '/wiki/Ferdinand_III,_Holy_Roman_Emperor', '/wiki/Leopold_V,_Archduke_of_Austria', '/wiki/Ferdinand_Charles,_Archduke_of_Austria', '/wiki/Sigismund_Francis,_Archduke_of_Austria', '/wiki/Leopold_I,_Holy_Roman_Emperor', '/wiki/Joseph_I,_Holy_Roman_Emperor', '/wiki/Charles_VI,_Holy_Roman_Emperor', '/wiki/Maria_Theresa', '/wiki/Francis_I,_Holy_Roman_Emperor', '/wiki/Joseph_II,_Holy_Roman_Emperor', '/wiki/Leopold_II,_Holy_Roman_Emperor', '/wiki/Francis_II,_Holy_Roman_Emperor', '/wiki/Ferdinand_I_of_Austria', '/wiki/Franz_Joseph_I_of_Austria', '/wiki/Charles_I_of_Austria', '/wiki/William,_Duke_of_Austria', '/wiki/Leopold_IV,_Duke_of_Austria', '/wiki/Ernest,_Duke_of_Austria', '/wiki/Albert_VI,_Archduke_of_Austria', '/wiki/Charles_II,_Archduke_of_Austria', '/wiki/Frederick_IV,_Duke_of_Austria', '/wiki/Sigismund,_Archduke_of_Austria', '/wiki/Ferdinand_II,_Archduke_of_Austria']\n"
     ]
    }
   ],
   "source": [
    "# List_of_rulers_of_Austria\n",
    "print(get_monarch_list(\"https://en.wikipedia.org/wiki/List_of_rulers_of_Austria\", 'Monarchs_of_Austria', ['navbox-list-with-group', 'navbox-list']))"
   ],
   "metadata": {
    "collapsed": false,
    "pycharm": {
     "name": "#%%\n"
    }
   }
  },
  {
   "cell_type": "code",
   "execution_count": 150,
   "outputs": [
    {
     "name": "stdout",
     "output_type": "stream",
     "text": [
      "['/wiki/%C3%81lmos', '/wiki/%C3%81rp%C3%A1d', '/wiki/Zolt%C3%A1n_of_Hungary', '/wiki/Fajsz', '/wiki/Taksony_of_Hungary', '/wiki/G%C3%A9za,_Grand_Prince_of_the_Hungarians', '/wiki/Stephen_I_of_Hungary', '/wiki/Peter,_King_of_Hungary', '/wiki/Samuel_Aba', '/wiki/Andrew_I_of_Hungary', '/wiki/B%C3%A9la_I_of_Hungary', '/wiki/Solomon,_King_of_Hungary', '/wiki/G%C3%A9za_I_of_Hungary', '/wiki/Ladislaus_I_of_Hungary', '/wiki/Coloman,_King_of_Hungary', '/wiki/Stephen_II_of_Hungary', '/wiki/B%C3%A9la_II_of_Hungary', '/wiki/G%C3%A9za_II_of_Hungary', '/wiki/Stephen_III_of_Hungary', '/wiki/Ladislaus_II_of_Hungary', '/wiki/Stephen_IV_of_Hungary', '/wiki/B%C3%A9la_III_of_Hungary', '/wiki/Emeric,_King_of_Hungary', '/wiki/Ladislaus_III_of_Hungary', '/wiki/Andrew_II_of_Hungary', '/wiki/B%C3%A9la_IV_of_Hungary', '/wiki/Stephen_V_of_Hungary', '/wiki/Ladislaus_IV_of_Hungary', '/wiki/Andrew_III_of_Hungary', '/wiki/Wenceslaus_III_of_Bohemia', '/wiki/Otto_III,_Duke_of_Bavaria', '/wiki/Charles_I_of_Hungary', '/wiki/Louis_I_of_Hungary', '/wiki/Mary,_Queen_of_Hungary', '/wiki/Charles_III_of_Naples', '/wiki/Sigismund,_Holy_Roman_Emperor', '/wiki/Albert_II_of_Germany', '/wiki/Ladislaus_the_Posthumous', '/wiki/W%C5%82adys%C5%82aw_III_of_Poland', '/wiki/Matthias_Corvinus', '/wiki/Vladislaus_II_of_Hungary', '/wiki/Louis_II_of_Hungary', '/wiki/John_Z%C3%A1polya', '/wiki/John_Sigismund_Z%C3%A1polya', '/wiki/Ferdinand_I,_Holy_Roman_Emperor', '/wiki/Maximilian_II,_Holy_Roman_Emperor', '/wiki/Rudolf_II,_Holy_Roman_Emperor', '/wiki/Matthias,_Holy_Roman_Emperor', '/wiki/Ferdinand_II,_Holy_Roman_Emperor', '/wiki/Ferdinand_III,_Holy_Roman_Emperor', '/wiki/Ferdinand_IV,_King_of_the_Romans', '/wiki/Leopold_I,_Holy_Roman_Emperor', '/wiki/Joseph_I,_Holy_Roman_Emperor', '/wiki/Charles_VI,_Holy_Roman_Emperor', '/wiki/Maria_Theresa', '/wiki/Joseph_II,_Holy_Roman_Emperor', '/wiki/Leopold_II,_Holy_Roman_Emperor', '/wiki/Francis_II,_Holy_Roman_Emperor', '/wiki/Ferdinand_I_of_Austria', '/wiki/Franz_Joseph_I_of_Austria', '/wiki/Charles_I_of_Austria']\n"
     ]
    }
   ],
   "source": [
    "# List_of_Hungarian_monarchs\n",
    "print(get_monarch_list(\"https://en.wikipedia.org/wiki/List_of_Hungarian_monarchs\", 'Monarchs_of_Hungary', ['navbox-list-with-group', 'navbox-list']))"
   ],
   "metadata": {
    "collapsed": false,
    "pycharm": {
     "name": "#%%\n"
    }
   }
  },
  {
   "cell_type": "code",
   "execution_count": 151,
   "outputs": [
    {
     "name": "stdout",
     "output_type": "stream",
     "text": [
      "['/wiki/Charles_I_of_Anjou', '/wiki/Charles_II_of_Naples', '/wiki/Robert_of_Naples', '/wiki/Joanna_I_of_Naples', '/wiki/Charles_III_of_Naples', '/wiki/Ladislaus_of_Naples', '/wiki/Louis_II_of_Naples', '/wiki/Joanna_II_of_Naples', '/wiki/Ren%C3%A9_of_Anjou', '/wiki/Alfonso_V_of_Aragon', '/wiki/Ferdinand_I_of_Naples', '/wiki/Alfonso_II_of_Naples', '/wiki/Ferdinand_II_of_Naples', '/wiki/Frederick_of_Naples', '/wiki/Louis_XII', '/wiki/Ferdinand_II_of_Aragon', '/wiki/Joanna_of_Castile', '/wiki/Charles_V,_Holy_Roman_Emperor', '/wiki/Philip_II_of_Spain', '/wiki/Philip_III_of_Spain', '/wiki/Philip_IV_of_Spain', '/wiki/Charles_II_of_Spain', '/wiki/Charles_VI,_Holy_Roman_Emperor', '/wiki/Charles_III_of_Spain', '/wiki/Ferdinand_I_of_the_Two_Sicilies', '/wiki/Parthenopean_Republic', '/wiki/Joseph_Bonaparte', '/wiki/Joachim_Murat']\n"
     ]
    }
   ],
   "source": [
    "# List_of_monarchs_of_Naples\n",
    "print(get_monarch_list(\"https://en.wikipedia.org/wiki/List_of_monarchs_of_Naples\", 'Monarchs_of_Naples', ['navbox-list-with-group', 'navbox-list']))"
   ],
   "metadata": {
    "collapsed": false,
    "pycharm": {
     "name": "#%%\n"
    }
   }
  },
  {
   "cell_type": "code",
   "execution_count": 152,
   "outputs": [
    {
     "name": "stdout",
     "output_type": "stream",
     "text": [
      "['/wiki/Afonso_I_of_Portugal', '/wiki/Sancho_I_of_Portugal', '/wiki/Afonso_II_of_Portugal', '/wiki/Sancho_II_of_Portugal', '/wiki/Afonso_III_of_Portugal', '/wiki/Denis_of_Portugal', '/wiki/Afonso_IV_of_Portugal', '/wiki/Peter_I_of_Portugal', '/wiki/Ferdinand_I_of_Portugal', '/wiki/Beatrice_of_Portugal', '/wiki/John_I_of_Portugal', '/wiki/Edward,_King_of_Portugal', '/wiki/Afonso_V_of_Portugal', '/wiki/John_II_of_Portugal', '/wiki/Manuel_I_of_Portugal', '/wiki/John_III_of_Portugal', '/wiki/Sebastian_of_Portugal', '/wiki/Henry,_King_of_Portugal', '/wiki/Anthony,_Prior_of_Crato', '/wiki/Philip_II_of_Spain', '/wiki/Philip_III_of_Spain', '/wiki/Philip_IV_of_Spain', '/wiki/John_IV_of_Portugal', '/wiki/Afonso_VI_of_Portugal', '/wiki/Peter_II_of_Portugal', '/wiki/John_V_of_Portugal', '/wiki/Joseph_I_of_Portugal', '/wiki/Maria_I_of_Portugal', '/wiki/John_VI_of_Portugal', '/wiki/Pedro_I_of_Brazil', '/wiki/Maria_II_of_Portugal', '/wiki/Miguel_I_of_Portugal', '/wiki/Pedro_V_of_Portugal', '/wiki/Lu%C3%ADs_I_of_Portugal', '/wiki/Carlos_I_of_Portugal', '/wiki/Manuel_II_of_Portugal']\n"
     ]
    }
   ],
   "source": [
    "# List_of_Portuguese_monarchs\n",
    "print(get_monarch_list(\"https://en.wikipedia.org/wiki/List_of_Portuguese_monarchs\", 'Monarchs_of_Portugal', ['navbox-list-with-group', 'navbox-list']))"
   ],
   "metadata": {
    "collapsed": false,
    "pycharm": {
     "name": "#%%\n"
    }
   }
  },
  {
   "cell_type": "code",
   "execution_count": 153,
   "outputs": [
    {
     "name": "stdout",
     "output_type": "stream",
     "text": [
      "['/wiki/Lech,_Czech,_and_Rus', '/wiki/Krakus', '/wiki/Krakus_II', '/wiki/Lech_II', '/wiki/Princess_Wanda', '/wiki/Leszko_I', '/wiki/Leszko_II', '/wiki/Leszko_III', '/wiki/Popiel_I', '/wiki/Popiel_II', '/wiki/Cho%C5%9Bcisko', '/wiki/Piast_the_Wheelwright', '/wiki/Siemowit', '/wiki/Lestek', '/wiki/Siemomys%C5%82', '/wiki/Mieszko_I_of_Poland', '/wiki/Boles%C5%82aw_I_the_Brave', '/wiki/Bezprym', '/wiki/Mieszko_II_Lambert', '/wiki/Boles%C5%82aw_the_Forgotten', '/wiki/Casimir_I_the_Restorer', '/wiki/Boles%C5%82aw_II_the_Generous', '/wiki/W%C5%82adys%C5%82aw_I_Herman', '/wiki/Zbigniew_of_Poland', '/wiki/Boles%C5%82aw_III_Wrymouth', '/wiki/W%C5%82adys%C5%82aw_II_the_Exile', '/wiki/Boles%C5%82aw_IV_the_Curly', '/wiki/Mieszko_III_the_Old', '/wiki/Casimir_II_the_Just', '/wiki/Leszek_the_White', '/wiki/W%C5%82adys%C5%82aw_III_Spindleshanks', '/wiki/W%C5%82adys%C5%82aw_Odonic', '/wiki/Mieszko_IV_Tanglefoot', '/wiki/Konrad_I_of_Masovia', '/wiki/Henry_the_Bearded', '/wiki/Henry_II_the_Pious', '/wiki/Boles%C5%82aw_II_the_Horned', '/wiki/Boles%C5%82aw_V_the_Chaste', '/wiki/Leszek_II_the_Black', '/wiki/Henryk_IV_Probus', '/wiki/Przemys%C5%82_II', '/wiki/Duke_of_Silesia', '/wiki/Duchy_of_Greater_Poland#Dukes_of_Greater_Poland', 'https://pl.wikipedia.org/wiki/Ksi%C4%85%C5%BC%C4%99ta_sandomierscy', '/wiki/Duke_of_Masovia', 'https://pl.wikipedia.org/wiki/W%C5%82adcy_Kujaw', 'https://pl.wikipedia.org/wiki/Ksi%C4%85%C5%BC%C4%99ta_%C5%82%C4%99czyccy', '/wiki/List_of_Pomeranian_duchies_and_dukes#Duchy_of_Pomerelia', '/wiki/List_of_Pomeranian_duchies_and_dukes#Duchy_of_Pomerania', '/wiki/Wenceslaus_II_of_Bohemia', '/wiki/Wenceslaus_III_of_Bohemia', '/wiki/W%C5%82adys%C5%82aw_I_%C5%81okietek', '/wiki/Casimir_III_the_Great', '/wiki/Louis_I_of_Hungary', '/wiki/Jadwiga_of_Poland', '/wiki/W%C5%82adys%C5%82aw_II_Jagie%C5%82%C5%82o', '/wiki/W%C5%82adys%C5%82aw_III_of_Poland', '/wiki/Casimir_IV_Jagiellon', '/wiki/John_I_Albert', '/wiki/Alexander_Jagiellon', '/wiki/Sigismund_I_the_Old', '/wiki/Sigismund_II_Augustus', '/wiki/Henry_III_of_France', '/wiki/Anna_Jagiellon', '/wiki/Stephen_B%C3%A1thory', '/wiki/Sigismund_III_Vasa', '/wiki/W%C5%82adys%C5%82aw_IV_Vasa', '/wiki/John_II_Casimir_Vasa', '/wiki/Micha%C5%82_Korybut_Wi%C5%9Bniowiecki', '/wiki/John_III_Sobieski', '/wiki/Augustus_II_the_Strong', '/wiki/Stanis%C5%82aw_Leszczy%C5%84ski', '/wiki/Augustus_III_of_Poland', '/wiki/Stanis%C5%82aw_August_Poniatowski']\n"
     ]
    }
   ],
   "source": [
    "# List_of_Polish_monarchs\n",
    "print(get_monarch_list(\"https://en.wikipedia.org/wiki/List_of_Polish_monarchs\", 'Monarchs_of_Poland', ['navbox-list-with-group', 'navbox-list']))"
   ],
   "metadata": {
    "collapsed": false,
    "pycharm": {
     "name": "#%%\n"
    }
   }
  },
  {
   "cell_type": "code",
   "execution_count": 159,
   "outputs": [
    {
     "name": "stdout",
     "output_type": "stream",
     "text": [
      "['/wiki/Garibald_I_of_Bavaria', '/wiki/Tassilo_I_of_Bavaria', '/wiki/Garibald_II_of_Bavaria', '/wiki/Theodo_of_Bavaria', '/wiki/Theodbert_of_Bavaria', '/wiki/Theobald_of_Bavaria', '/wiki/Tassilo_II_of_Bavaria', '/wiki/Grimoald_of_Bavaria', '/wiki/Hugbert_of_Bavaria', '/wiki/Odilo_of_Bavaria', '/wiki/Grifo_(noble)', '/wiki/Tassilo_III_of_Bavaria', '/wiki/Charlemagne', '/wiki/Louis_the_Pious', '/wiki/Louis_the_German', '/wiki/Carloman_of_Bavaria', '/wiki/Louis_the_Younger', '/wiki/Charles_the_Fat', '/wiki/Arnulf_of_Carinthia', '/wiki/Louis_the_Child', '/wiki/Engeldeo', '/wiki/Luitpold,_Margrave_of_Bavaria', '/wiki/Arnulf,_Duke_of_Bavaria', '/wiki/Eberhard,_Duke_of_Bavaria', '/wiki/Berthold,_Duke_of_Bavaria', '/wiki/Henry_I,_Duke_of_Bavaria', '/wiki/Henry_II,_Duke_of_Bavaria', '/wiki/Otto_I,_Duke_of_Swabia_and_Bavaria', '/wiki/Henry_III,_Duke_of_Bavaria', '/wiki/Henry_II,_Holy_Roman_Emperor', '/wiki/Henry_V,_Duke_of_Bavaria', '/wiki/Henry_III,_Holy_Roman_Emperor', '/wiki/Henry_VII,_Duke_of_Bavaria', '/wiki/Conrad_I,_Duke_of_Bavaria', '/wiki/Henry_IV,_Holy_Roman_Emperor', '/wiki/Conrad_II,_Duke_of_Bavaria', '/wiki/Otto_of_Nordheim', '/wiki/Welf_I,_Duke_of_Bavaria', '/wiki/Welf_II,_Duke_of_Bavaria', '/wiki/Henry_IX,_Duke_of_Bavaria', '/wiki/Henry_X,_Duke_of_Bavaria', '/wiki/Leopold_IV,_Duke_of_Bavaria', '/wiki/Henry_II,_Duke_of_Austria', '/wiki/Henry_the_Lion', '/wiki/Otto_I_of_Wittelsbach,_Duke_of_Bavaria', '/wiki/Agnes_of_Loon', '/wiki/Louis_I,_Duke_of_Bavaria', '/wiki/Otto_II_Wittelsbach,_Duke_of_Bavaria', '/wiki/Henry_XIII,_Duke_of_Bavaria', '/wiki/Louis_II,_Duke_of_Bavaria', '/wiki/Otto_III,_Duke_of_Bavaria', '/wiki/Louis_III,_Duke_of_Bavaria', '/wiki/Stephen_I,_Duke_of_Bavaria', '/wiki/Matilda_of_Habsburg', '/wiki/Rudolf_I,_Duke_of_Bavaria', '/wiki/Louis_IV,_Holy_Roman_Emperor', '/wiki/Henry_XIV,_Duke_of_Bavaria', '/wiki/Otto_IV,_Duke_of_Lower_Bavaria', '/wiki/Henry_XV,_Duke_of_Bavaria', '/wiki/John_I,_Duke_of_Bavaria', '/wiki/Louis_V,_Duke_of_Bavaria', '/wiki/Louis_VI_the_Roman', '/wiki/Otto_V,_Duke_of_Bavaria', '/wiki/Stephen_II,_Duke_of_Bavaria', '/wiki/William_I,_Duke_of_Bavaria', '/wiki/Albert_I,_Duke_of_Bavaria', '/wiki/Albert_II,_Duke_of_Bavaria-Straubing', '/wiki/Meinhard_III,_Count_of_Gorizia-Tyrol', '/wiki/Landshut', '/wiki/Frederick,_Duke_of_Bavaria', '/wiki/Stephen_III,_Duke_of_Bavaria', '/wiki/John_II,_Duke_of_Bavaria', '/wiki/Maddalena_Visconti', '/wiki/Henry_XVI,_Duke_of_Bavaria', '/wiki/Ernest,_Duke_of_Bavaria', '/wiki/William_III,_Duke_of_Bavaria', '/wiki/William_II,_Duke_of_Bavaria', '/wiki/Louis_VII,_Duke_of_Bavaria', '/wiki/John_the_Pitiless,_Duke_of_Bavaria-Straubing', '/wiki/Albert_III,_Duke_of_Bavaria', '/wiki/Louis_VIII,_Duke_of_Bavaria', '/wiki/Bavaria-Landshut', '/wiki/Louis_IX,_Duke_of_Bavaria', '/wiki/John_IV,_Duke_of_Bavaria', '/wiki/Sigismund_of_Bavaria', '/wiki/Bavaria-Munich', '/wiki/George,_Duke_of_Bavaria', '/wiki/Albert_IV,_Duke_of_Bavaria', '/wiki/William_IV,_Duke_of_Bavaria', '/wiki/Louis_X,_Duke_of_Bavaria', '/wiki/Albert_V,_Duke_of_Bavaria', '/wiki/William_V,_Duke_of_Bavaria', '/wiki/Maximilian_I,_Elector_of_Bavaria', '/wiki/Albert_VI,_Duke_of_Bavaria', '/wiki/Ferdinand_Maria,_Elector_of_Bavaria', '/wiki/Maximilian_Philipp_Hieronymus,_Duke_of_Bavaria-Leuchtenberg', '/wiki/Maximilian_II_Emanuel,_Elector_of_Bavaria', '/wiki/Charles_VII,_Holy_Roman_Emperor', '/wiki/Maximilian_III_Joseph,_Elector_of_Bavaria', '/wiki/Charles_Theodore,_Elector_of_Bavaria', '/wiki/Maximilian_I_Joseph_of_Bavaria', '/wiki/Ludwig_I,_King_of_Bavaria', '/wiki/Maximilian_II_of_Bavaria', '/wiki/Ludwig_II_of_Bavaria', '/wiki/Otto,_King_of_Bavaria', '/wiki/Ludwig_III_of_Bavaria']\n"
     ]
    }
   ],
   "source": [
    "# Bavarian Monarchs\n",
    "response = requests.get(\n",
    "\turl=\"https://en.wikipedia.org/wiki/List_of_monarchs_of_Bavaria\",\n",
    ")\n",
    "soup = BeautifulSoup(response.content, 'html.parser')\n",
    "tr_tags = soup.find_all('tr')\n",
    "td_tags = []\n",
    "for tr_tag in tr_tags:\n",
    "    temp = tr_tag.find_all('td')\n",
    "    if len(temp) >= 1:\n",
    "        td_tags.append(temp[0])\n",
    "bavarian_monarchs = []\n",
    "for td_tag in td_tags:\n",
    "    a_tag = td_tag.find('a')\n",
    "    if a_tag:\n",
    "        href = a_tag.get('href')\n",
    "        bavarian_monarchs.append(href)\n",
    "    else:\n",
    "        b_tags = td_tag.find_all('b')\n",
    "        for b_tag in b_tags:\n",
    "            a_tag = b_tag.find('a')\n",
    "            if a_tag:\n",
    "                href = a_tag.get('href')\n",
    "                bavarian_monarchs.append(href)\n",
    "bavarian_monarchs = [h for h in bavarian_monarchs if h.startswith('/wiki/') and not h.startswith('/wiki/File:') and not h.startswith('/wiki/Pope')][:-18]\n",
    "bavarian_monarchs = [x for i, x in enumerate(bavarian_monarchs) if x not in bavarian_monarchs[:i]]\n",
    "print(bavarian_monarchs)"
   ],
   "metadata": {
    "collapsed": false,
    "pycharm": {
     "name": "#%%\n"
    }
   }
  },
  {
   "cell_type": "code",
   "execution_count": null,
   "outputs": [],
   "source": [],
   "metadata": {
    "collapsed": false,
    "pycharm": {
     "name": "#%%\n"
    }
   }
  }
 ],
 "metadata": {
  "kernelspec": {
   "display_name": "Python 3",
   "language": "python",
   "name": "python3"
  },
  "language_info": {
   "codemirror_mode": {
    "name": "ipython",
    "version": 2
   },
   "file_extension": ".py",
   "mimetype": "text/x-python",
   "name": "python",
   "nbconvert_exporter": "python",
   "pygments_lexer": "ipython2",
   "version": "2.7.6"
  }
 },
 "nbformat": 4,
 "nbformat_minor": 0
}
