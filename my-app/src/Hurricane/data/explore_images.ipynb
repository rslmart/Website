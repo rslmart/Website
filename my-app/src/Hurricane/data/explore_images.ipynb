{
 "cells": [
  {
   "cell_type": "code",
   "execution_count": 1,
   "metadata": {
    "collapsed": true
   },
   "outputs": [],
   "source": [
    "#       GOES-12 METEO-7\n",
    "# VIS   X\n",
    "# IR    X       X\n",
    "# VAP   X\n",
    "\n",
    "#       GOES-8  GOES-10\n",
    "# VIS   X\n",
    "# IR    X       X\n",
    "# VAP"
   ]
  },
  {
   "cell_type": "code",
   "execution_count": 22,
   "outputs": [],
   "source": [
    "import pandas as pd\n",
    "from datetime import datetime"
   ],
   "metadata": {
    "collapsed": false,
    "pycharm": {
     "name": "#%%\n"
    }
   }
  },
  {
   "cell_type": "code",
   "execution_count": 3,
   "outputs": [],
   "source": [
    "df = pd.read_csv('./scraper/scraper/spiders/tcdat.csv')"
   ],
   "metadata": {
    "collapsed": false,
    "pycharm": {
     "name": "#%%\n"
    }
   }
  },
  {
   "cell_type": "code",
   "execution_count": 4,
   "outputs": [
    {
     "name": "stdout",
     "output_type": "stream",
     "text": [
      "                                           image_url  season basin storm_name  \\\n",
      "0  https://www.nrlmry.navy.mil/tcdat/tc98/ATL/09....    1998   ATL    09.IVAN   \n",
      "1  https://www.nrlmry.navy.mil/tcdat/tc98/ATL/09....    1998   ATL    09.IVAN   \n",
      "2  https://www.nrlmry.navy.mil/tcdat/tc98/ATL/09....    1998   ATL    09.IVAN   \n",
      "3  https://www.nrlmry.navy.mil/tcdat/tc98/ATL/09....    1998   ATL    09.IVAN   \n",
      "4  https://www.nrlmry.navy.mil/tcdat/tc98/ATL/09....    1998   ATL    09.IVAN   \n",
      "5  https://www.nrlmry.navy.mil/tcdat/tc98/ATL/09....    1998   ATL    09.IVAN   \n",
      "6  https://www.nrlmry.navy.mil/tcdat/tc98/ATL/09....    1998   ATL    09.IVAN   \n",
      "7  https://www.nrlmry.navy.mil/tcdat/tc98/ATL/09....    1998   ATL    09.IVAN   \n",
      "8  https://www.nrlmry.navy.mil/tcdat/tc98/ATL/09....    1998   ATL    09.IVAN   \n",
      "9  https://www.nrlmry.navy.mil/tcdat/tc98/ATL/09....    1998   ATL    09.IVAN   \n",
      "\n",
      "  type sensor resolution satellite extension  \n",
      "0  vis    geo        1km    LATEST       jpg  \n",
      "1  vis    geo        1km        g8       jpg  \n",
      "2  vis    geo        1km        g8       jpg  \n",
      "3  vis    geo        1km        g8       jpg  \n",
      "4  vis    geo        1km        g8       jpg  \n",
      "5  vis    geo        1km        g8       jpg  \n",
      "6  vis    geo        1km        g8       jpg  \n",
      "7  vis    geo        1km        g8       jpg  \n",
      "8  vis    geo        1km        g8       jpg  \n",
      "9  vis    geo        1km        g8       jpg  \n"
     ]
    }
   ],
   "source": [
    "print(df.head(10))"
   ],
   "metadata": {
    "collapsed": false,
    "pycharm": {
     "name": "#%%\n"
    }
   }
  },
  {
   "cell_type": "code",
   "execution_count": 5,
   "outputs": [
    {
     "data": {
      "text/plain": "                                                 image_url  season basin  \\\n0        https://www.nrlmry.navy.mil/tcdat/tc98/ATL/09....    1998   ATL   \n1        https://www.nrlmry.navy.mil/tcdat/tc98/ATL/09....    1998   ATL   \n102      https://www.nrlmry.navy.mil/tcdat/tc98/ATL/13....    1998   ATL   \n574      https://www.nrlmry.navy.mil/tcdat/tc03/ATL/17L...    2003   ATL   \n578      https://www.nrlmry.navy.mil/tcdat/tc03/ATL/17L...    2003   ATL   \n...                                                    ...     ...   ...   \n1355328  https://www.nrlmry.navy.mil/tcdat/tc09/ATL/10L...    2009   ATL   \n1358072  https://www.nrlmry.navy.mil/tcdat/tc09/ATL/10L...    2009   ATL   \n1378809  https://www.nrlmry.navy.mil/tcdat/tc09/ATL/11L...    2009   ATL   \n1580076  https://www.nrlmry.navy.mil/tcdat/tc09/ATL/03L...    2009   ATL   \n1597003  https://www.nrlmry.navy.mil/tcdat/tc10/ATL/02L...    2010   ATL   \n\n        storm_name type sensor resolution satellite extension  \n0          09.IVAN  vis    geo        1km    LATEST       jpg  \n1          09.IVAN  vis    geo        1km        g8       jpg  \n102       13.MITCH  vis    geo        1km       g10       jpg  \n574      17L.LARRY  vis    geo        2km   goes-12       jpg  \n578      17L.LARRY  vis    geo        2km   goes-10       jpg  \n...            ...  ...    ...        ...       ...       ...  \n1355328  10L.HENRI   ir    geo     1km_BD   noaa-19       jpg  \n1358072  10L.HENRI   ir    geo     1km_BD   goes-11       jpg  \n1378809    11L.IDA   ir    geo     1km_BD      f-18       jpg  \n1580076   03L.BILL   ir    geo     1km_BD     msg-1       jpg  \n1597003    02L.TWO   ir    geo     1km_BD   goes-13       jpg  \n\n[130 rows x 9 columns]",
      "text/html": "<div>\n<style scoped>\n    .dataframe tbody tr th:only-of-type {\n        vertical-align: middle;\n    }\n\n    .dataframe tbody tr th {\n        vertical-align: top;\n    }\n\n    .dataframe thead th {\n        text-align: right;\n    }\n</style>\n<table border=\"1\" class=\"dataframe\">\n  <thead>\n    <tr style=\"text-align: right;\">\n      <th></th>\n      <th>image_url</th>\n      <th>season</th>\n      <th>basin</th>\n      <th>storm_name</th>\n      <th>type</th>\n      <th>sensor</th>\n      <th>resolution</th>\n      <th>satellite</th>\n      <th>extension</th>\n    </tr>\n  </thead>\n  <tbody>\n    <tr>\n      <th>0</th>\n      <td>https://www.nrlmry.navy.mil/tcdat/tc98/ATL/09....</td>\n      <td>1998</td>\n      <td>ATL</td>\n      <td>09.IVAN</td>\n      <td>vis</td>\n      <td>geo</td>\n      <td>1km</td>\n      <td>LATEST</td>\n      <td>jpg</td>\n    </tr>\n    <tr>\n      <th>1</th>\n      <td>https://www.nrlmry.navy.mil/tcdat/tc98/ATL/09....</td>\n      <td>1998</td>\n      <td>ATL</td>\n      <td>09.IVAN</td>\n      <td>vis</td>\n      <td>geo</td>\n      <td>1km</td>\n      <td>g8</td>\n      <td>jpg</td>\n    </tr>\n    <tr>\n      <th>102</th>\n      <td>https://www.nrlmry.navy.mil/tcdat/tc98/ATL/13....</td>\n      <td>1998</td>\n      <td>ATL</td>\n      <td>13.MITCH</td>\n      <td>vis</td>\n      <td>geo</td>\n      <td>1km</td>\n      <td>g10</td>\n      <td>jpg</td>\n    </tr>\n    <tr>\n      <th>574</th>\n      <td>https://www.nrlmry.navy.mil/tcdat/tc03/ATL/17L...</td>\n      <td>2003</td>\n      <td>ATL</td>\n      <td>17L.LARRY</td>\n      <td>vis</td>\n      <td>geo</td>\n      <td>2km</td>\n      <td>goes-12</td>\n      <td>jpg</td>\n    </tr>\n    <tr>\n      <th>578</th>\n      <td>https://www.nrlmry.navy.mil/tcdat/tc03/ATL/17L...</td>\n      <td>2003</td>\n      <td>ATL</td>\n      <td>17L.LARRY</td>\n      <td>vis</td>\n      <td>geo</td>\n      <td>2km</td>\n      <td>goes-10</td>\n      <td>jpg</td>\n    </tr>\n    <tr>\n      <th>...</th>\n      <td>...</td>\n      <td>...</td>\n      <td>...</td>\n      <td>...</td>\n      <td>...</td>\n      <td>...</td>\n      <td>...</td>\n      <td>...</td>\n      <td>...</td>\n    </tr>\n    <tr>\n      <th>1355328</th>\n      <td>https://www.nrlmry.navy.mil/tcdat/tc09/ATL/10L...</td>\n      <td>2009</td>\n      <td>ATL</td>\n      <td>10L.HENRI</td>\n      <td>ir</td>\n      <td>geo</td>\n      <td>1km_BD</td>\n      <td>noaa-19</td>\n      <td>jpg</td>\n    </tr>\n    <tr>\n      <th>1358072</th>\n      <td>https://www.nrlmry.navy.mil/tcdat/tc09/ATL/10L...</td>\n      <td>2009</td>\n      <td>ATL</td>\n      <td>10L.HENRI</td>\n      <td>ir</td>\n      <td>geo</td>\n      <td>1km_BD</td>\n      <td>goes-11</td>\n      <td>jpg</td>\n    </tr>\n    <tr>\n      <th>1378809</th>\n      <td>https://www.nrlmry.navy.mil/tcdat/tc09/ATL/11L...</td>\n      <td>2009</td>\n      <td>ATL</td>\n      <td>11L.IDA</td>\n      <td>ir</td>\n      <td>geo</td>\n      <td>1km_BD</td>\n      <td>f-18</td>\n      <td>jpg</td>\n    </tr>\n    <tr>\n      <th>1580076</th>\n      <td>https://www.nrlmry.navy.mil/tcdat/tc09/ATL/03L...</td>\n      <td>2009</td>\n      <td>ATL</td>\n      <td>03L.BILL</td>\n      <td>ir</td>\n      <td>geo</td>\n      <td>1km_BD</td>\n      <td>msg-1</td>\n      <td>jpg</td>\n    </tr>\n    <tr>\n      <th>1597003</th>\n      <td>https://www.nrlmry.navy.mil/tcdat/tc10/ATL/02L...</td>\n      <td>2010</td>\n      <td>ATL</td>\n      <td>02L.TWO</td>\n      <td>ir</td>\n      <td>geo</td>\n      <td>1km_BD</td>\n      <td>goes-13</td>\n      <td>jpg</td>\n    </tr>\n  </tbody>\n</table>\n<p>130 rows × 9 columns</p>\n</div>"
     },
     "execution_count": 5,
     "metadata": {},
     "output_type": "execute_result"
    }
   ],
   "source": [
    "df.drop_duplicates(subset = [\"satellite\"])"
   ],
   "metadata": {
    "collapsed": false,
    "pycharm": {
     "name": "#%%\n"
    }
   }
  },
  {
   "cell_type": "code",
   "execution_count": 54,
   "outputs": [],
   "source": [
    "ir = df.loc[df['type'] == 'ir'].loc[df['resolution'] == '1km'].loc[df['sensor'] == 'geo']"
   ],
   "metadata": {
    "collapsed": false,
    "pycharm": {
     "name": "#%%\n"
    }
   }
  },
  {
   "cell_type": "code",
   "execution_count": 55,
   "outputs": [
    {
     "ename": "KeyError",
     "evalue": "0",
     "output_type": "error",
     "traceback": [
      "\u001B[0;31m---------------------------------------------------------------------------\u001B[0m",
      "\u001B[0;31mKeyError\u001B[0m                                  Traceback (most recent call last)",
      "File \u001B[0;32m/Library/Python/3.8/site-packages/pandas/core/indexes/base.py:3800\u001B[0m, in \u001B[0;36mIndex.get_loc\u001B[0;34m(self, key, method, tolerance)\u001B[0m\n\u001B[1;32m   3799\u001B[0m \u001B[38;5;28;01mtry\u001B[39;00m:\n\u001B[0;32m-> 3800\u001B[0m     \u001B[38;5;28;01mreturn\u001B[39;00m \u001B[38;5;28;43mself\u001B[39;49m\u001B[38;5;241;43m.\u001B[39;49m\u001B[43m_engine\u001B[49m\u001B[38;5;241;43m.\u001B[39;49m\u001B[43mget_loc\u001B[49m\u001B[43m(\u001B[49m\u001B[43mcasted_key\u001B[49m\u001B[43m)\u001B[49m\n\u001B[1;32m   3801\u001B[0m \u001B[38;5;28;01mexcept\u001B[39;00m \u001B[38;5;167;01mKeyError\u001B[39;00m \u001B[38;5;28;01mas\u001B[39;00m err:\n",
      "File \u001B[0;32m/Library/Python/3.8/site-packages/pandas/_libs/index.pyx:138\u001B[0m, in \u001B[0;36mpandas._libs.index.IndexEngine.get_loc\u001B[0;34m()\u001B[0m\n",
      "File \u001B[0;32m/Library/Python/3.8/site-packages/pandas/_libs/index.pyx:165\u001B[0m, in \u001B[0;36mpandas._libs.index.IndexEngine.get_loc\u001B[0;34m()\u001B[0m\n",
      "File \u001B[0;32mpandas/_libs/hashtable_class_helper.pxi:2263\u001B[0m, in \u001B[0;36mpandas._libs.hashtable.Int64HashTable.get_item\u001B[0;34m()\u001B[0m\n",
      "File \u001B[0;32mpandas/_libs/hashtable_class_helper.pxi:2273\u001B[0m, in \u001B[0;36mpandas._libs.hashtable.Int64HashTable.get_item\u001B[0;34m()\u001B[0m\n",
      "\u001B[0;31mKeyError\u001B[0m: 0",
      "\nThe above exception was the direct cause of the following exception:\n",
      "\u001B[0;31mKeyError\u001B[0m                                  Traceback (most recent call last)",
      "Input \u001B[0;32mIn [55]\u001B[0m, in \u001B[0;36m<cell line: 1>\u001B[0;34m()\u001B[0m\n\u001B[0;32m----> 1\u001B[0m arr \u001B[38;5;241m=\u001B[39m \u001B[43mir\u001B[49m\u001B[38;5;241;43m.\u001B[39;49m\u001B[43mat\u001B[49m\u001B[43m[\u001B[49m\u001B[38;5;241;43m0\u001B[39;49m\u001B[43m,\u001B[49m\u001B[38;5;124;43m'\u001B[39;49m\u001B[38;5;124;43mimage_url\u001B[39;49m\u001B[38;5;124;43m'\u001B[39;49m\u001B[43m]\u001B[49m\u001B[38;5;241m.\u001B[39msplit(\u001B[38;5;124m'\u001B[39m\u001B[38;5;124m/\u001B[39m\u001B[38;5;124m'\u001B[39m)[\u001B[38;5;241m-\u001B[39m\u001B[38;5;241m1\u001B[39m]\u001B[38;5;241m.\u001B[39msplit(\u001B[38;5;124m'\u001B[39m\u001B[38;5;124m.\u001B[39m\u001B[38;5;124m'\u001B[39m)\n\u001B[1;32m      2\u001B[0m arr\n",
      "File \u001B[0;32m/Library/Python/3.8/site-packages/pandas/core/indexing.py:2427\u001B[0m, in \u001B[0;36m_AtIndexer.__getitem__\u001B[0;34m(self, key)\u001B[0m\n\u001B[1;32m   2424\u001B[0m         \u001B[38;5;28;01mraise\u001B[39;00m \u001B[38;5;167;01mValueError\u001B[39;00m(\u001B[38;5;124m\"\u001B[39m\u001B[38;5;124mInvalid call for scalar access (getting)!\u001B[39m\u001B[38;5;124m\"\u001B[39m)\n\u001B[1;32m   2425\u001B[0m     \u001B[38;5;28;01mreturn\u001B[39;00m \u001B[38;5;28mself\u001B[39m\u001B[38;5;241m.\u001B[39mobj\u001B[38;5;241m.\u001B[39mloc[key]\n\u001B[0;32m-> 2427\u001B[0m \u001B[38;5;28;01mreturn\u001B[39;00m \u001B[38;5;28;43msuper\u001B[39;49m\u001B[43m(\u001B[49m\u001B[43m)\u001B[49m\u001B[38;5;241;43m.\u001B[39;49m\u001B[38;5;21;43m__getitem__\u001B[39;49m\u001B[43m(\u001B[49m\u001B[43mkey\u001B[49m\u001B[43m)\u001B[49m\n",
      "File \u001B[0;32m/Library/Python/3.8/site-packages/pandas/core/indexing.py:2378\u001B[0m, in \u001B[0;36m_ScalarAccessIndexer.__getitem__\u001B[0;34m(self, key)\u001B[0m\n\u001B[1;32m   2375\u001B[0m         \u001B[38;5;28;01mraise\u001B[39;00m \u001B[38;5;167;01mValueError\u001B[39;00m(\u001B[38;5;124m\"\u001B[39m\u001B[38;5;124mInvalid call for scalar access (getting)!\u001B[39m\u001B[38;5;124m\"\u001B[39m)\n\u001B[1;32m   2377\u001B[0m key \u001B[38;5;241m=\u001B[39m \u001B[38;5;28mself\u001B[39m\u001B[38;5;241m.\u001B[39m_convert_key(key)\n\u001B[0;32m-> 2378\u001B[0m \u001B[38;5;28;01mreturn\u001B[39;00m \u001B[38;5;28;43mself\u001B[39;49m\u001B[38;5;241;43m.\u001B[39;49m\u001B[43mobj\u001B[49m\u001B[38;5;241;43m.\u001B[39;49m\u001B[43m_get_value\u001B[49m\u001B[43m(\u001B[49m\u001B[38;5;241;43m*\u001B[39;49m\u001B[43mkey\u001B[49m\u001B[43m,\u001B[49m\u001B[43m \u001B[49m\u001B[43mtakeable\u001B[49m\u001B[38;5;241;43m=\u001B[39;49m\u001B[38;5;28;43mself\u001B[39;49m\u001B[38;5;241;43m.\u001B[39;49m\u001B[43m_takeable\u001B[49m\u001B[43m)\u001B[49m\n",
      "File \u001B[0;32m/Library/Python/3.8/site-packages/pandas/core/frame.py:3922\u001B[0m, in \u001B[0;36mDataFrame._get_value\u001B[0;34m(self, index, col, takeable)\u001B[0m\n\u001B[1;32m   3916\u001B[0m engine \u001B[38;5;241m=\u001B[39m \u001B[38;5;28mself\u001B[39m\u001B[38;5;241m.\u001B[39mindex\u001B[38;5;241m.\u001B[39m_engine\n\u001B[1;32m   3918\u001B[0m \u001B[38;5;28;01mif\u001B[39;00m \u001B[38;5;129;01mnot\u001B[39;00m \u001B[38;5;28misinstance\u001B[39m(\u001B[38;5;28mself\u001B[39m\u001B[38;5;241m.\u001B[39mindex, MultiIndex):\n\u001B[1;32m   3919\u001B[0m     \u001B[38;5;66;03m# CategoricalIndex: Trying to use the engine fastpath may give incorrect\u001B[39;00m\n\u001B[1;32m   3920\u001B[0m     \u001B[38;5;66;03m#  results if our categories are integers that dont match our codes\u001B[39;00m\n\u001B[1;32m   3921\u001B[0m     \u001B[38;5;66;03m# IntervalIndex: IntervalTree has no get_loc\u001B[39;00m\n\u001B[0;32m-> 3922\u001B[0m     row \u001B[38;5;241m=\u001B[39m \u001B[38;5;28;43mself\u001B[39;49m\u001B[38;5;241;43m.\u001B[39;49m\u001B[43mindex\u001B[49m\u001B[38;5;241;43m.\u001B[39;49m\u001B[43mget_loc\u001B[49m\u001B[43m(\u001B[49m\u001B[43mindex\u001B[49m\u001B[43m)\u001B[49m\n\u001B[1;32m   3923\u001B[0m     \u001B[38;5;28;01mreturn\u001B[39;00m series\u001B[38;5;241m.\u001B[39m_values[row]\n\u001B[1;32m   3925\u001B[0m \u001B[38;5;66;03m# For MultiIndex going through engine effectively restricts us to\u001B[39;00m\n\u001B[1;32m   3926\u001B[0m \u001B[38;5;66;03m#  same-length tuples; see test_get_set_value_no_partial_indexing\u001B[39;00m\n",
      "File \u001B[0;32m/Library/Python/3.8/site-packages/pandas/core/indexes/base.py:3802\u001B[0m, in \u001B[0;36mIndex.get_loc\u001B[0;34m(self, key, method, tolerance)\u001B[0m\n\u001B[1;32m   3800\u001B[0m     \u001B[38;5;28;01mreturn\u001B[39;00m \u001B[38;5;28mself\u001B[39m\u001B[38;5;241m.\u001B[39m_engine\u001B[38;5;241m.\u001B[39mget_loc(casted_key)\n\u001B[1;32m   3801\u001B[0m \u001B[38;5;28;01mexcept\u001B[39;00m \u001B[38;5;167;01mKeyError\u001B[39;00m \u001B[38;5;28;01mas\u001B[39;00m err:\n\u001B[0;32m-> 3802\u001B[0m     \u001B[38;5;28;01mraise\u001B[39;00m \u001B[38;5;167;01mKeyError\u001B[39;00m(key) \u001B[38;5;28;01mfrom\u001B[39;00m \u001B[38;5;21;01merr\u001B[39;00m\n\u001B[1;32m   3803\u001B[0m \u001B[38;5;28;01mexcept\u001B[39;00m \u001B[38;5;167;01mTypeError\u001B[39;00m:\n\u001B[1;32m   3804\u001B[0m     \u001B[38;5;66;03m# If we have a listlike key, _check_indexing_error will raise\u001B[39;00m\n\u001B[1;32m   3805\u001B[0m     \u001B[38;5;66;03m#  InvalidIndexError. Otherwise we fall through and re-raise\u001B[39;00m\n\u001B[1;32m   3806\u001B[0m     \u001B[38;5;66;03m#  the TypeError.\u001B[39;00m\n\u001B[1;32m   3807\u001B[0m     \u001B[38;5;28mself\u001B[39m\u001B[38;5;241m.\u001B[39m_check_indexing_error(key)\n",
      "\u001B[0;31mKeyError\u001B[0m: 0"
     ]
    }
   ],
   "source": [
    "arr = ir.at[0,'image_url'].split('/')[-1].split('.')\n",
    "arr"
   ],
   "metadata": {
    "collapsed": false,
    "pycharm": {
     "name": "#%%\n"
    }
   }
  },
  {
   "cell_type": "code",
   "execution_count": 50,
   "outputs": [
    {
     "ename": "ValueError",
     "evalue": "invalid literal for int() with base 10: ''",
     "output_type": "error",
     "traceback": [
      "\u001B[0;31m---------------------------------------------------------------------------\u001B[0m",
      "\u001B[0;31mValueError\u001B[0m                                Traceback (most recent call last)",
      "Input \u001B[0;32mIn [50]\u001B[0m, in \u001B[0;36m<cell line: 1>\u001B[0;34m()\u001B[0m\n\u001B[0;32m----> 1\u001B[0m datetime(\u001B[38;5;28mint\u001B[39m(arr[\u001B[38;5;241m0\u001B[39m][:\u001B[38;5;241m4\u001B[39m]), \u001B[38;5;28;43mint\u001B[39;49m\u001B[43m(\u001B[49m\u001B[43marr\u001B[49m\u001B[43m[\u001B[49m\u001B[38;5;241;43m0\u001B[39;49m\u001B[43m]\u001B[49m\u001B[43m[\u001B[49m\u001B[38;5;241;43m4\u001B[39;49m\u001B[43m:\u001B[49m\u001B[38;5;241;43m6\u001B[39;49m\u001B[43m]\u001B[49m\u001B[43m)\u001B[49m, \u001B[38;5;28mint\u001B[39m(arr[\u001B[38;5;241m0\u001B[39m][\u001B[38;5;241m6\u001B[39m:]), \u001B[38;5;28mint\u001B[39m(arr[\u001B[38;5;241m1\u001B[39m][:\u001B[38;5;241m2\u001B[39m]), \u001B[38;5;28mint\u001B[39m(arr[\u001B[38;5;241m1\u001B[39m][\u001B[38;5;241m2\u001B[39m:]))\n",
      "\u001B[0;31mValueError\u001B[0m: invalid literal for int() with base 10: ''"
     ]
    }
   ],
   "source": [
    "datetime(int(arr[0][:4]), int(arr[0][4:6]), int(arr[0][6:]), int(arr[1][:2]), int(arr[1][2:]))"
   ],
   "metadata": {
    "collapsed": false,
    "pycharm": {
     "name": "#%%\n"
    }
   }
  },
  {
   "cell_type": "code",
   "execution_count": null,
   "outputs": [],
   "source": [
    "ir[\"date_time\"] = ir['image_url'].split('/')[-1].split('.')"
   ],
   "metadata": {
    "collapsed": false,
    "pycharm": {
     "name": "#%%\n"
    }
   }
  },
  {
   "cell_type": "code",
   "execution_count": 26,
   "outputs": [],
   "source": [
    "pointDF = pd.read_json('./track_points.json')"
   ],
   "metadata": {
    "collapsed": false,
    "pycharm": {
     "name": "#%%\n"
    }
   }
  },
  {
   "cell_type": "code",
   "execution_count": 33,
   "outputs": [
    {
     "data": {
      "text/plain": "                id  year  month  day  hours  minutes           date_time  \\\n0  AL011851UNNAMED  1851      6   25      0        0 1851-06-25 00:00:00   \n1  AL011851UNNAMED  1851      6   25      6        0 1851-06-25 06:00:00   \n2  AL011851UNNAMED  1851      6   25     12        0 1851-06-25 12:00:00   \n3  AL011851UNNAMED  1851      6   25     18        0 1851-06-25 18:00:00   \n4  AL011851UNNAMED  1851      6   25     21        0 1851-06-25 21:00:00   \n5  AL011851UNNAMED  1851      6   26      0        0 1851-06-26 00:00:00   \n6  AL011851UNNAMED  1851      6   26      6        0 1851-06-26 06:00:00   \n7  AL011851UNNAMED  1851      6   26     12        0 1851-06-26 12:00:00   \n8  AL011851UNNAMED  1851      6   26     18        0 1851-06-26 18:00:00   \n9  AL011851UNNAMED  1851      6   27      0        0 1851-06-27 00:00:00   \n\n  record_type status  latitude  ...  50_ne_poly  50_se_poly  50_sw_poly  \\\n0                 HU      28.0  ...         NaN         NaN         NaN   \n1                 HU      28.0  ...         NaN         NaN         NaN   \n2                 HU      28.0  ...         NaN         NaN         NaN   \n3                 HU      28.1  ...         NaN         NaN         NaN   \n4           L     HU      28.2  ...         NaN         NaN         NaN   \n5                 HU      28.2  ...         NaN         NaN         NaN   \n6                 TS      28.3  ...         NaN         NaN         NaN   \n7                 TS      28.4  ...         NaN         NaN         NaN   \n8                 TS      28.6  ...         NaN         NaN         NaN   \n9                 TS      29.0  ...         NaN         NaN         NaN   \n\n   50_nw_poly  64_ne_poly  64_se_poly  64_sw_poly  64_nw_poly  \\\n0         NaN         NaN         NaN         NaN         NaN   \n1         NaN         NaN         NaN         NaN         NaN   \n2         NaN         NaN         NaN         NaN         NaN   \n3         NaN         NaN         NaN         NaN         NaN   \n4         NaN         NaN         NaN         NaN         NaN   \n5         NaN         NaN         NaN         NaN         NaN   \n6         NaN         NaN         NaN         NaN         NaN   \n7         NaN         NaN         NaN         NaN         NaN   \n8         NaN         NaN         NaN         NaN         NaN   \n9         NaN         NaN         NaN         NaN         NaN   \n\n   max_wind_radius  max_wind_poly  \n0              NaN            NaN  \n1              NaN            NaN  \n2              NaN            NaN  \n3              NaN            NaN  \n4              NaN            NaN  \n5              NaN            NaN  \n6              NaN            NaN  \n7              NaN            NaN  \n8              NaN            NaN  \n9              NaN            NaN  \n\n[10 rows x 40 columns]",
      "text/html": "<div>\n<style scoped>\n    .dataframe tbody tr th:only-of-type {\n        vertical-align: middle;\n    }\n\n    .dataframe tbody tr th {\n        vertical-align: top;\n    }\n\n    .dataframe thead th {\n        text-align: right;\n    }\n</style>\n<table border=\"1\" class=\"dataframe\">\n  <thead>\n    <tr style=\"text-align: right;\">\n      <th></th>\n      <th>id</th>\n      <th>year</th>\n      <th>month</th>\n      <th>day</th>\n      <th>hours</th>\n      <th>minutes</th>\n      <th>date_time</th>\n      <th>record_type</th>\n      <th>status</th>\n      <th>latitude</th>\n      <th>...</th>\n      <th>50_ne_poly</th>\n      <th>50_se_poly</th>\n      <th>50_sw_poly</th>\n      <th>50_nw_poly</th>\n      <th>64_ne_poly</th>\n      <th>64_se_poly</th>\n      <th>64_sw_poly</th>\n      <th>64_nw_poly</th>\n      <th>max_wind_radius</th>\n      <th>max_wind_poly</th>\n    </tr>\n  </thead>\n  <tbody>\n    <tr>\n      <th>0</th>\n      <td>AL011851UNNAMED</td>\n      <td>1851</td>\n      <td>6</td>\n      <td>25</td>\n      <td>0</td>\n      <td>0</td>\n      <td>1851-06-25 00:00:00</td>\n      <td></td>\n      <td>HU</td>\n      <td>28.0</td>\n      <td>...</td>\n      <td>NaN</td>\n      <td>NaN</td>\n      <td>NaN</td>\n      <td>NaN</td>\n      <td>NaN</td>\n      <td>NaN</td>\n      <td>NaN</td>\n      <td>NaN</td>\n      <td>NaN</td>\n      <td>NaN</td>\n    </tr>\n    <tr>\n      <th>1</th>\n      <td>AL011851UNNAMED</td>\n      <td>1851</td>\n      <td>6</td>\n      <td>25</td>\n      <td>6</td>\n      <td>0</td>\n      <td>1851-06-25 06:00:00</td>\n      <td></td>\n      <td>HU</td>\n      <td>28.0</td>\n      <td>...</td>\n      <td>NaN</td>\n      <td>NaN</td>\n      <td>NaN</td>\n      <td>NaN</td>\n      <td>NaN</td>\n      <td>NaN</td>\n      <td>NaN</td>\n      <td>NaN</td>\n      <td>NaN</td>\n      <td>NaN</td>\n    </tr>\n    <tr>\n      <th>2</th>\n      <td>AL011851UNNAMED</td>\n      <td>1851</td>\n      <td>6</td>\n      <td>25</td>\n      <td>12</td>\n      <td>0</td>\n      <td>1851-06-25 12:00:00</td>\n      <td></td>\n      <td>HU</td>\n      <td>28.0</td>\n      <td>...</td>\n      <td>NaN</td>\n      <td>NaN</td>\n      <td>NaN</td>\n      <td>NaN</td>\n      <td>NaN</td>\n      <td>NaN</td>\n      <td>NaN</td>\n      <td>NaN</td>\n      <td>NaN</td>\n      <td>NaN</td>\n    </tr>\n    <tr>\n      <th>3</th>\n      <td>AL011851UNNAMED</td>\n      <td>1851</td>\n      <td>6</td>\n      <td>25</td>\n      <td>18</td>\n      <td>0</td>\n      <td>1851-06-25 18:00:00</td>\n      <td></td>\n      <td>HU</td>\n      <td>28.1</td>\n      <td>...</td>\n      <td>NaN</td>\n      <td>NaN</td>\n      <td>NaN</td>\n      <td>NaN</td>\n      <td>NaN</td>\n      <td>NaN</td>\n      <td>NaN</td>\n      <td>NaN</td>\n      <td>NaN</td>\n      <td>NaN</td>\n    </tr>\n    <tr>\n      <th>4</th>\n      <td>AL011851UNNAMED</td>\n      <td>1851</td>\n      <td>6</td>\n      <td>25</td>\n      <td>21</td>\n      <td>0</td>\n      <td>1851-06-25 21:00:00</td>\n      <td>L</td>\n      <td>HU</td>\n      <td>28.2</td>\n      <td>...</td>\n      <td>NaN</td>\n      <td>NaN</td>\n      <td>NaN</td>\n      <td>NaN</td>\n      <td>NaN</td>\n      <td>NaN</td>\n      <td>NaN</td>\n      <td>NaN</td>\n      <td>NaN</td>\n      <td>NaN</td>\n    </tr>\n    <tr>\n      <th>5</th>\n      <td>AL011851UNNAMED</td>\n      <td>1851</td>\n      <td>6</td>\n      <td>26</td>\n      <td>0</td>\n      <td>0</td>\n      <td>1851-06-26 00:00:00</td>\n      <td></td>\n      <td>HU</td>\n      <td>28.2</td>\n      <td>...</td>\n      <td>NaN</td>\n      <td>NaN</td>\n      <td>NaN</td>\n      <td>NaN</td>\n      <td>NaN</td>\n      <td>NaN</td>\n      <td>NaN</td>\n      <td>NaN</td>\n      <td>NaN</td>\n      <td>NaN</td>\n    </tr>\n    <tr>\n      <th>6</th>\n      <td>AL011851UNNAMED</td>\n      <td>1851</td>\n      <td>6</td>\n      <td>26</td>\n      <td>6</td>\n      <td>0</td>\n      <td>1851-06-26 06:00:00</td>\n      <td></td>\n      <td>TS</td>\n      <td>28.3</td>\n      <td>...</td>\n      <td>NaN</td>\n      <td>NaN</td>\n      <td>NaN</td>\n      <td>NaN</td>\n      <td>NaN</td>\n      <td>NaN</td>\n      <td>NaN</td>\n      <td>NaN</td>\n      <td>NaN</td>\n      <td>NaN</td>\n    </tr>\n    <tr>\n      <th>7</th>\n      <td>AL011851UNNAMED</td>\n      <td>1851</td>\n      <td>6</td>\n      <td>26</td>\n      <td>12</td>\n      <td>0</td>\n      <td>1851-06-26 12:00:00</td>\n      <td></td>\n      <td>TS</td>\n      <td>28.4</td>\n      <td>...</td>\n      <td>NaN</td>\n      <td>NaN</td>\n      <td>NaN</td>\n      <td>NaN</td>\n      <td>NaN</td>\n      <td>NaN</td>\n      <td>NaN</td>\n      <td>NaN</td>\n      <td>NaN</td>\n      <td>NaN</td>\n    </tr>\n    <tr>\n      <th>8</th>\n      <td>AL011851UNNAMED</td>\n      <td>1851</td>\n      <td>6</td>\n      <td>26</td>\n      <td>18</td>\n      <td>0</td>\n      <td>1851-06-26 18:00:00</td>\n      <td></td>\n      <td>TS</td>\n      <td>28.6</td>\n      <td>...</td>\n      <td>NaN</td>\n      <td>NaN</td>\n      <td>NaN</td>\n      <td>NaN</td>\n      <td>NaN</td>\n      <td>NaN</td>\n      <td>NaN</td>\n      <td>NaN</td>\n      <td>NaN</td>\n      <td>NaN</td>\n    </tr>\n    <tr>\n      <th>9</th>\n      <td>AL011851UNNAMED</td>\n      <td>1851</td>\n      <td>6</td>\n      <td>27</td>\n      <td>0</td>\n      <td>0</td>\n      <td>1851-06-27 00:00:00</td>\n      <td></td>\n      <td>TS</td>\n      <td>29.0</td>\n      <td>...</td>\n      <td>NaN</td>\n      <td>NaN</td>\n      <td>NaN</td>\n      <td>NaN</td>\n      <td>NaN</td>\n      <td>NaN</td>\n      <td>NaN</td>\n      <td>NaN</td>\n      <td>NaN</td>\n      <td>NaN</td>\n    </tr>\n  </tbody>\n</table>\n<p>10 rows × 40 columns</p>\n</div>"
     },
     "execution_count": 33,
     "metadata": {},
     "output_type": "execute_result"
    }
   ],
   "source": [
    "pointDF.head(10)"
   ],
   "metadata": {
    "collapsed": false,
    "pycharm": {
     "name": "#%%\n"
    }
   }
  },
  {
   "cell_type": "code",
   "execution_count": 34,
   "outputs": [],
   "source": [
    "point1998DF = pointDF.loc[pointDF['year'] > 1998]"
   ],
   "metadata": {
    "collapsed": false,
    "pycharm": {
     "name": "#%%\n"
    }
   }
  },
  {
   "cell_type": "code",
   "execution_count": 35,
   "outputs": [
    {
     "data": {
      "text/plain": "                   id  year  month  day  hours  minutes           date_time  \\\n41310  AL011999ARLENE  1999      6   11     18        0 1999-06-11 18:00:00   \n41311  AL011999ARLENE  1999      6   12      0        0 1999-06-12 00:00:00   \n41312  AL011999ARLENE  1999      6   12      6        0 1999-06-12 06:00:00   \n41313  AL011999ARLENE  1999      6   12     12        0 1999-06-12 12:00:00   \n41314  AL011999ARLENE  1999      6   12     18        0 1999-06-12 18:00:00   \n41315  AL011999ARLENE  1999      6   13      0        0 1999-06-13 00:00:00   \n41316  AL011999ARLENE  1999      6   13      6        0 1999-06-13 06:00:00   \n41317  AL011999ARLENE  1999      6   13     12        0 1999-06-13 12:00:00   \n41318  AL011999ARLENE  1999      6   13     18        0 1999-06-13 18:00:00   \n41319  AL011999ARLENE  1999      6   14      0        0 1999-06-14 00:00:00   \n\n      record_type status  latitude  ...  50_ne_poly  50_se_poly  50_sw_poly  \\\n41310                 TD      27.1  ...         NaN         NaN         NaN   \n41311                 TD      27.7  ...         NaN         NaN         NaN   \n41312                 TD      28.1  ...         NaN         NaN         NaN   \n41313                 TS      28.3  ...         NaN         NaN         NaN   \n41314                 TS      28.5  ...         NaN         NaN         NaN   \n41315                 TS      28.8  ...         NaN         NaN         NaN   \n41316                 TS      29.0  ...         NaN         NaN         NaN   \n41317                 TS      29.1  ...         NaN         NaN         NaN   \n41318                 TS      29.1  ...         NaN         NaN         NaN   \n41319                 TS      29.1  ...         NaN         NaN         NaN   \n\n       50_nw_poly  64_ne_poly  64_se_poly  64_sw_poly  64_nw_poly  \\\n41310         NaN         NaN         NaN         NaN         NaN   \n41311         NaN         NaN         NaN         NaN         NaN   \n41312         NaN         NaN         NaN         NaN         NaN   \n41313         NaN         NaN         NaN         NaN         NaN   \n41314         NaN         NaN         NaN         NaN         NaN   \n41315         NaN         NaN         NaN         NaN         NaN   \n41316         NaN         NaN         NaN         NaN         NaN   \n41317         NaN         NaN         NaN         NaN         NaN   \n41318         NaN         NaN         NaN         NaN         NaN   \n41319         NaN         NaN         NaN         NaN         NaN   \n\n       max_wind_radius  max_wind_poly  \n41310              NaN            NaN  \n41311              NaN            NaN  \n41312              NaN            NaN  \n41313              NaN            NaN  \n41314              NaN            NaN  \n41315              NaN            NaN  \n41316              NaN            NaN  \n41317              NaN            NaN  \n41318              NaN            NaN  \n41319              NaN            NaN  \n\n[10 rows x 40 columns]",
      "text/html": "<div>\n<style scoped>\n    .dataframe tbody tr th:only-of-type {\n        vertical-align: middle;\n    }\n\n    .dataframe tbody tr th {\n        vertical-align: top;\n    }\n\n    .dataframe thead th {\n        text-align: right;\n    }\n</style>\n<table border=\"1\" class=\"dataframe\">\n  <thead>\n    <tr style=\"text-align: right;\">\n      <th></th>\n      <th>id</th>\n      <th>year</th>\n      <th>month</th>\n      <th>day</th>\n      <th>hours</th>\n      <th>minutes</th>\n      <th>date_time</th>\n      <th>record_type</th>\n      <th>status</th>\n      <th>latitude</th>\n      <th>...</th>\n      <th>50_ne_poly</th>\n      <th>50_se_poly</th>\n      <th>50_sw_poly</th>\n      <th>50_nw_poly</th>\n      <th>64_ne_poly</th>\n      <th>64_se_poly</th>\n      <th>64_sw_poly</th>\n      <th>64_nw_poly</th>\n      <th>max_wind_radius</th>\n      <th>max_wind_poly</th>\n    </tr>\n  </thead>\n  <tbody>\n    <tr>\n      <th>41310</th>\n      <td>AL011999ARLENE</td>\n      <td>1999</td>\n      <td>6</td>\n      <td>11</td>\n      <td>18</td>\n      <td>0</td>\n      <td>1999-06-11 18:00:00</td>\n      <td></td>\n      <td>TD</td>\n      <td>27.1</td>\n      <td>...</td>\n      <td>NaN</td>\n      <td>NaN</td>\n      <td>NaN</td>\n      <td>NaN</td>\n      <td>NaN</td>\n      <td>NaN</td>\n      <td>NaN</td>\n      <td>NaN</td>\n      <td>NaN</td>\n      <td>NaN</td>\n    </tr>\n    <tr>\n      <th>41311</th>\n      <td>AL011999ARLENE</td>\n      <td>1999</td>\n      <td>6</td>\n      <td>12</td>\n      <td>0</td>\n      <td>0</td>\n      <td>1999-06-12 00:00:00</td>\n      <td></td>\n      <td>TD</td>\n      <td>27.7</td>\n      <td>...</td>\n      <td>NaN</td>\n      <td>NaN</td>\n      <td>NaN</td>\n      <td>NaN</td>\n      <td>NaN</td>\n      <td>NaN</td>\n      <td>NaN</td>\n      <td>NaN</td>\n      <td>NaN</td>\n      <td>NaN</td>\n    </tr>\n    <tr>\n      <th>41312</th>\n      <td>AL011999ARLENE</td>\n      <td>1999</td>\n      <td>6</td>\n      <td>12</td>\n      <td>6</td>\n      <td>0</td>\n      <td>1999-06-12 06:00:00</td>\n      <td></td>\n      <td>TD</td>\n      <td>28.1</td>\n      <td>...</td>\n      <td>NaN</td>\n      <td>NaN</td>\n      <td>NaN</td>\n      <td>NaN</td>\n      <td>NaN</td>\n      <td>NaN</td>\n      <td>NaN</td>\n      <td>NaN</td>\n      <td>NaN</td>\n      <td>NaN</td>\n    </tr>\n    <tr>\n      <th>41313</th>\n      <td>AL011999ARLENE</td>\n      <td>1999</td>\n      <td>6</td>\n      <td>12</td>\n      <td>12</td>\n      <td>0</td>\n      <td>1999-06-12 12:00:00</td>\n      <td></td>\n      <td>TS</td>\n      <td>28.3</td>\n      <td>...</td>\n      <td>NaN</td>\n      <td>NaN</td>\n      <td>NaN</td>\n      <td>NaN</td>\n      <td>NaN</td>\n      <td>NaN</td>\n      <td>NaN</td>\n      <td>NaN</td>\n      <td>NaN</td>\n      <td>NaN</td>\n    </tr>\n    <tr>\n      <th>41314</th>\n      <td>AL011999ARLENE</td>\n      <td>1999</td>\n      <td>6</td>\n      <td>12</td>\n      <td>18</td>\n      <td>0</td>\n      <td>1999-06-12 18:00:00</td>\n      <td></td>\n      <td>TS</td>\n      <td>28.5</td>\n      <td>...</td>\n      <td>NaN</td>\n      <td>NaN</td>\n      <td>NaN</td>\n      <td>NaN</td>\n      <td>NaN</td>\n      <td>NaN</td>\n      <td>NaN</td>\n      <td>NaN</td>\n      <td>NaN</td>\n      <td>NaN</td>\n    </tr>\n    <tr>\n      <th>41315</th>\n      <td>AL011999ARLENE</td>\n      <td>1999</td>\n      <td>6</td>\n      <td>13</td>\n      <td>0</td>\n      <td>0</td>\n      <td>1999-06-13 00:00:00</td>\n      <td></td>\n      <td>TS</td>\n      <td>28.8</td>\n      <td>...</td>\n      <td>NaN</td>\n      <td>NaN</td>\n      <td>NaN</td>\n      <td>NaN</td>\n      <td>NaN</td>\n      <td>NaN</td>\n      <td>NaN</td>\n      <td>NaN</td>\n      <td>NaN</td>\n      <td>NaN</td>\n    </tr>\n    <tr>\n      <th>41316</th>\n      <td>AL011999ARLENE</td>\n      <td>1999</td>\n      <td>6</td>\n      <td>13</td>\n      <td>6</td>\n      <td>0</td>\n      <td>1999-06-13 06:00:00</td>\n      <td></td>\n      <td>TS</td>\n      <td>29.0</td>\n      <td>...</td>\n      <td>NaN</td>\n      <td>NaN</td>\n      <td>NaN</td>\n      <td>NaN</td>\n      <td>NaN</td>\n      <td>NaN</td>\n      <td>NaN</td>\n      <td>NaN</td>\n      <td>NaN</td>\n      <td>NaN</td>\n    </tr>\n    <tr>\n      <th>41317</th>\n      <td>AL011999ARLENE</td>\n      <td>1999</td>\n      <td>6</td>\n      <td>13</td>\n      <td>12</td>\n      <td>0</td>\n      <td>1999-06-13 12:00:00</td>\n      <td></td>\n      <td>TS</td>\n      <td>29.1</td>\n      <td>...</td>\n      <td>NaN</td>\n      <td>NaN</td>\n      <td>NaN</td>\n      <td>NaN</td>\n      <td>NaN</td>\n      <td>NaN</td>\n      <td>NaN</td>\n      <td>NaN</td>\n      <td>NaN</td>\n      <td>NaN</td>\n    </tr>\n    <tr>\n      <th>41318</th>\n      <td>AL011999ARLENE</td>\n      <td>1999</td>\n      <td>6</td>\n      <td>13</td>\n      <td>18</td>\n      <td>0</td>\n      <td>1999-06-13 18:00:00</td>\n      <td></td>\n      <td>TS</td>\n      <td>29.1</td>\n      <td>...</td>\n      <td>NaN</td>\n      <td>NaN</td>\n      <td>NaN</td>\n      <td>NaN</td>\n      <td>NaN</td>\n      <td>NaN</td>\n      <td>NaN</td>\n      <td>NaN</td>\n      <td>NaN</td>\n      <td>NaN</td>\n    </tr>\n    <tr>\n      <th>41319</th>\n      <td>AL011999ARLENE</td>\n      <td>1999</td>\n      <td>6</td>\n      <td>14</td>\n      <td>0</td>\n      <td>0</td>\n      <td>1999-06-14 00:00:00</td>\n      <td></td>\n      <td>TS</td>\n      <td>29.1</td>\n      <td>...</td>\n      <td>NaN</td>\n      <td>NaN</td>\n      <td>NaN</td>\n      <td>NaN</td>\n      <td>NaN</td>\n      <td>NaN</td>\n      <td>NaN</td>\n      <td>NaN</td>\n      <td>NaN</td>\n      <td>NaN</td>\n    </tr>\n  </tbody>\n</table>\n<p>10 rows × 40 columns</p>\n</div>"
     },
     "execution_count": 35,
     "metadata": {},
     "output_type": "execute_result"
    }
   ],
   "source": [
    "point1998DF.head(10)"
   ],
   "metadata": {
    "collapsed": false,
    "pycharm": {
     "name": "#%%\n"
    }
   }
  },
  {
   "cell_type": "code",
   "execution_count": 40,
   "outputs": [
    {
     "data": {
      "text/plain": "id                      AL011999ARLENE\nyear                              1999\nmonth                                6\nday                                 11\nhours                               18\nminutes                              0\ndate_time          1999-06-11 18:00:00\nrecord_type                           \nstatus                              TD\nlatitude                          27.1\nlongitude                        -58.1\nwind                                30\nACE                               0.09\npressure                        1010.0\n34_ne                              NaN\n34_se                              NaN\n34_sw                              NaN\n34_nw                              NaN\n50_ne                              NaN\n50_se                              NaN\n50_sw                              NaN\n50_nw                              NaN\n64_ne                              NaN\n64_se                              NaN\n64_sw                              NaN\n64_nw                              NaN\n34_se_poly                         NaN\n34_sw_poly                         NaN\n34_ne_poly                         NaN\n34_nw_poly                         NaN\n50_ne_poly                         NaN\n50_se_poly                         NaN\n50_sw_poly                         NaN\n50_nw_poly                         NaN\n64_ne_poly                         NaN\n64_se_poly                         NaN\n64_sw_poly                         NaN\n64_nw_poly                         NaN\nmax_wind_radius                    NaN\nmax_wind_poly                      NaN\nName: 41310, dtype: object"
     },
     "execution_count": 40,
     "metadata": {},
     "output_type": "execute_result"
    }
   ],
   "source": [
    "point = point1998DF.iloc[0]\n",
    "point"
   ],
   "metadata": {
    "collapsed": false,
    "pycharm": {
     "name": "#%%\n"
    }
   }
  },
  {
   "cell_type": "code",
   "execution_count": 45,
   "outputs": [
    {
     "ename": "AttributeError",
     "evalue": "'Series' object has no attribute 'split'",
     "output_type": "error",
     "traceback": [
      "\u001B[0;31m---------------------------------------------------------------------------\u001B[0m",
      "\u001B[0;31mAttributeError\u001B[0m                            Traceback (most recent call last)",
      "Input \u001B[0;32mIn [45]\u001B[0m, in \u001B[0;36m<cell line: 1>\u001B[0;34m()\u001B[0m\n\u001B[0;32m----> 1\u001B[0m specificPoint \u001B[38;5;241m=\u001B[39m ir\u001B[38;5;241m.\u001B[39mloc[ir[\u001B[38;5;124m'\u001B[39m\u001B[38;5;124mseason\u001B[39m\u001B[38;5;124m'\u001B[39m] \u001B[38;5;241m==\u001B[39m \u001B[38;5;28mint\u001B[39m(point[\u001B[38;5;124m'\u001B[39m\u001B[38;5;124mid\u001B[39m\u001B[38;5;124m'\u001B[39m][\u001B[38;5;241m4\u001B[39m:\u001B[38;5;241m8\u001B[39m])]\u001B[38;5;241m.\u001B[39mloc[\u001B[43mir\u001B[49m\u001B[43m[\u001B[49m\u001B[38;5;124;43m'\u001B[39;49m\u001B[38;5;124;43mstorm_name\u001B[39;49m\u001B[38;5;124;43m'\u001B[39;49m\u001B[43m]\u001B[49m\u001B[38;5;241;43m.\u001B[39;49m\u001B[43msplit\u001B[49m(\u001B[38;5;124m'\u001B[39m\u001B[38;5;124m/\u001B[39m\u001B[38;5;124m'\u001B[39m)[\u001B[38;5;241m-\u001B[39m\u001B[38;5;241m1\u001B[39m] \u001B[38;5;241m==\u001B[39m point[\u001B[38;5;124m'\u001B[39m\u001B[38;5;124mid\u001B[39m\u001B[38;5;124m'\u001B[39m][\u001B[38;5;241m8\u001B[39m:]]\n\u001B[1;32m      2\u001B[0m specificPoint\u001B[38;5;241m.\u001B[39mhead(\u001B[38;5;241m10\u001B[39m)\n",
      "File \u001B[0;32m/Library/Python/3.8/site-packages/pandas/core/generic.py:5907\u001B[0m, in \u001B[0;36mNDFrame.__getattr__\u001B[0;34m(self, name)\u001B[0m\n\u001B[1;32m   5900\u001B[0m \u001B[38;5;28;01mif\u001B[39;00m (\n\u001B[1;32m   5901\u001B[0m     name \u001B[38;5;129;01mnot\u001B[39;00m \u001B[38;5;129;01min\u001B[39;00m \u001B[38;5;28mself\u001B[39m\u001B[38;5;241m.\u001B[39m_internal_names_set\n\u001B[1;32m   5902\u001B[0m     \u001B[38;5;129;01mand\u001B[39;00m name \u001B[38;5;129;01mnot\u001B[39;00m \u001B[38;5;129;01min\u001B[39;00m \u001B[38;5;28mself\u001B[39m\u001B[38;5;241m.\u001B[39m_metadata\n\u001B[1;32m   5903\u001B[0m     \u001B[38;5;129;01mand\u001B[39;00m name \u001B[38;5;129;01mnot\u001B[39;00m \u001B[38;5;129;01min\u001B[39;00m \u001B[38;5;28mself\u001B[39m\u001B[38;5;241m.\u001B[39m_accessors\n\u001B[1;32m   5904\u001B[0m     \u001B[38;5;129;01mand\u001B[39;00m \u001B[38;5;28mself\u001B[39m\u001B[38;5;241m.\u001B[39m_info_axis\u001B[38;5;241m.\u001B[39m_can_hold_identifiers_and_holds_name(name)\n\u001B[1;32m   5905\u001B[0m ):\n\u001B[1;32m   5906\u001B[0m     \u001B[38;5;28;01mreturn\u001B[39;00m \u001B[38;5;28mself\u001B[39m[name]\n\u001B[0;32m-> 5907\u001B[0m \u001B[38;5;28;01mreturn\u001B[39;00m \u001B[38;5;28;43mobject\u001B[39;49m\u001B[38;5;241;43m.\u001B[39;49m\u001B[38;5;21;43m__getattribute__\u001B[39;49m\u001B[43m(\u001B[49m\u001B[38;5;28;43mself\u001B[39;49m\u001B[43m,\u001B[49m\u001B[43m \u001B[49m\u001B[43mname\u001B[49m\u001B[43m)\u001B[49m\n",
      "\u001B[0;31mAttributeError\u001B[0m: 'Series' object has no attribute 'split'"
     ]
    }
   ],
   "source": [
    "specificPoint = ir.loc[ir['season'] == int(point['id'][4:8])].loc[ir['storm_name'].split('/')[-1] == point['id'][8:]]\n",
    "specificPoint.head(10)"
   ],
   "metadata": {
    "collapsed": false,
    "pycharm": {
     "name": "#%%\n"
    }
   }
  },
  {
   "cell_type": "code",
   "execution_count": 48,
   "outputs": [],
   "source": [
    "ir.to_csv('/Users/rslmart/IdeaProjects/Website/my-app/src/Hurricane/data/ir_tcdat.csv', index=False)"
   ],
   "metadata": {
    "collapsed": false,
    "pycharm": {
     "name": "#%%\n"
    }
   }
  },
  {
   "cell_type": "code",
   "execution_count": null,
   "outputs": [],
   "source": [],
   "metadata": {
    "collapsed": false,
    "pycharm": {
     "name": "#%%\n"
    }
   }
  }
 ],
 "metadata": {
  "kernelspec": {
   "display_name": "Python 3",
   "language": "python",
   "name": "python3"
  },
  "language_info": {
   "codemirror_mode": {
    "name": "ipython",
    "version": 2
   },
   "file_extension": ".py",
   "mimetype": "text/x-python",
   "name": "python",
   "nbconvert_exporter": "python",
   "pygments_lexer": "ipython2",
   "version": "2.7.6"
  }
 },
 "nbformat": 4,
 "nbformat_minor": 0
}