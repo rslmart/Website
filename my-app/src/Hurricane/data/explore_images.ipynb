{
 "cells": [
  {
   "cell_type": "code",
   "execution_count": 1,
   "metadata": {
    "collapsed": true,
    "ExecuteTime": {
     "end_time": "2024-02-23T00:13:59.979944700Z",
     "start_time": "2024-02-23T00:13:59.964318700Z"
    }
   },
   "outputs": [],
   "source": [
    "#       GOES-12 METEO-7\n",
    "# VIS   X\n",
    "# IR    X       X\n",
    "# VAP   X\n",
    "\n",
    "#       GOES-8  GOES-10\n",
    "# VIS   X\n",
    "# IR    X       X\n",
    "# VAP"
   ]
  },
  {
   "cell_type": "code",
   "execution_count": 5,
   "outputs": [
    {
     "name": "stdout",
     "output_type": "stream",
     "text": [
      "Current directory: C:\\Users\\Makoa\\IdeaProjects\\Website\\my-app\\src\\Hurricane\\data\n"
     ]
    }
   ],
   "source": [
    "import os\n",
    "\n",
    "current_directory = os.getcwd()\n",
    "print(\"Current directory:\", current_directory)"
   ],
   "metadata": {
    "collapsed": false,
    "ExecuteTime": {
     "end_time": "2024-02-23T00:15:41.286666300Z",
     "start_time": "2024-02-23T00:15:41.271038900Z"
    }
   }
  },
  {
   "cell_type": "code",
   "execution_count": 2,
   "outputs": [],
   "source": [
    "import pandas as pd\n",
    "from datetime import datetime"
   ],
   "metadata": {
    "collapsed": false,
    "pycharm": {
     "name": "#%%\n"
    },
    "ExecuteTime": {
     "end_time": "2024-02-23T00:14:01.736755Z",
     "start_time": "2024-02-23T00:14:00.659291Z"
    }
   }
  },
  {
   "cell_type": "code",
   "execution_count": 6,
   "outputs": [
    {
     "name": "stderr",
     "output_type": "stream",
     "text": [
      "c:\\users\\makoa\\appdata\\local\\programs\\python\\python37\\lib\\site-packages\\IPython\\core\\interactiveshell.py:3051: DtypeWarning: Columns (1,7,8,12,13,14) have mixed types.Specify dtype option on import or set low_memory=False.\n",
      "  interactivity=interactivity, compiler=compiler, result=result)\n"
     ]
    }
   ],
   "source": [
    "df = pd.read_csv('./scraper/scraper/tcdat.csv')"
   ],
   "metadata": {
    "collapsed": false,
    "pycharm": {
     "name": "#%%\n"
    },
    "ExecuteTime": {
     "end_time": "2024-02-23T00:16:21.139913900Z",
     "start_time": "2024-02-23T00:16:15.673509200Z"
    }
   }
  },
  {
   "cell_type": "code",
   "execution_count": 7,
   "outputs": [
    {
     "name": "stdout",
     "output_type": "stream",
     "text": [
      "                                           image_url season basin storm_name  \\\n",
      "0  https://www.nrlmry.navy.mil/tcdat/tc20/ATL/31L...   2020   ATL   31L.IOTA   \n",
      "1  https://www.nrlmry.navy.mil/tcdat/tc20/ATL/31L...   2020   ATL   31L.IOTA   \n",
      "2  https://www.nrlmry.navy.mil/tcdat/tc20/ATL/31L...   2020   ATL   31L.IOTA   \n",
      "3  https://www.nrlmry.navy.mil/tcdat/tc20/ATL/31L...   2020   ATL   31L.IOTA   \n",
      "4  https://www.nrlmry.navy.mil/tcdat/tc20/ATL/31L...   2020   ATL   31L.IOTA   \n",
      "5  https://www.nrlmry.navy.mil/tcdat/tc20/ATL/31L...   2020   ATL   31L.IOTA   \n",
      "6  https://www.nrlmry.navy.mil/tcdat/tc20/ATL/31L...   2020   ATL   31L.IOTA   \n",
      "7  https://www.nrlmry.navy.mil/tcdat/tc20/ATL/31L...   2020   ATL   31L.IOTA   \n",
      "8  https://www.nrlmry.navy.mil/tcdat/tc20/ATL/31L...   2020   ATL   31L.IOTA   \n",
      "9  https://www.nrlmry.navy.mil/tcdat/tc20/ATL/31L...   2020   ATL   31L.IOTA   \n",
      "\n",
      "  type sensor resolution  year month   day  hour  minute                 date  \\\n",
      "0  vis    ols        2km  2020    11  14.0  20.0    54.0  2020-11-14 20:54:00   \n",
      "1  vis    ols        2km  2020    11  14.0  21.0    23.0  2020-11-14 21:23:00   \n",
      "2  vis    ols        2km  2020    11  14.0  21.0    26.0  2020-11-14 21:26:00   \n",
      "3  vis    ols        2km  2020    11  14.0  21.0    46.0  2020-11-14 21:46:00   \n",
      "4  vis    ols        2km  2020    11  15.0   8.0    29.0  2020-11-15 08:29:00   \n",
      "5  vis    ols        2km  2020    11  15.0  10.0     7.0  2020-11-15 10:07:00   \n",
      "6  vis    ols        2km  2020    11  15.0  10.0    16.0  2020-11-15 10:16:00   \n",
      "7  vis    ols        2km  2020    11  15.0  12.0    10.0  2020-11-15 12:10:00   \n",
      "8  vis    ols        2km  2020    11  15.0  12.0    18.0  2020-11-15 12:18:00   \n",
      "9  vis    ols        2km  2020    11  15.0  21.0     1.0  2020-11-15 21:01:00   \n",
      "\n",
      "  satellite extension  \n",
      "0       f15       jpg  \n",
      "1       f18       jpg  \n",
      "2       f16       jpg  \n",
      "3       f18       jpg  \n",
      "4       f16       jpg  \n",
      "5       f18       jpg  \n",
      "6       f18       jpg  \n",
      "7       f17       jpg  \n",
      "8       f17       jpg  \n",
      "9       f15       jpg  \n"
     ]
    }
   ],
   "source": [
    "print(df.head(10))"
   ],
   "metadata": {
    "collapsed": false,
    "pycharm": {
     "name": "#%%\n"
    },
    "ExecuteTime": {
     "end_time": "2024-02-23T00:16:22.464921700Z",
     "start_time": "2024-02-23T00:16:22.433667500Z"
    }
   }
  },
  {
   "cell_type": "code",
   "execution_count": 8,
   "outputs": [
    {
     "data": {
      "text/plain": "                                                 image_url season basin  \\\n0        https://www.nrlmry.navy.mil/tcdat/tc20/ATL/31L...   2020   ATL   \n1        https://www.nrlmry.navy.mil/tcdat/tc20/ATL/31L...   2020   ATL   \n2        https://www.nrlmry.navy.mil/tcdat/tc20/ATL/31L...   2020   ATL   \n7        https://www.nrlmry.navy.mil/tcdat/tc20/ATL/31L...   2020   ATL   \n12       https://www.nrlmry.navy.mil/tcdat/tc21/ATL/20L...   2021   ATL   \n...                                                    ...    ...   ...   \n1764891  https://www.nrlmry.navy.mil/tcdat/tc21/ATL/02L...   2021   ATL   \n1766030  https://www.nrlmry.navy.mil/tcdat/tc21/ATL/02L...   2021   ATL   \n1768321  https://www.nrlmry.navy.mil/tcdat/tc99/ATL/01....   1999   ATL   \n1770501  https://www.nrlmry.navy.mil/tcdat/tc01/ATL/13L...   2001   ATL   \n1787469  https://www.nrlmry.navy.mil/tcdat/tc03/ATL/12L...   2003   ATL   \n\n         storm_name type sensor resolution  year month   day  hour  minute  \\\n0          31L.IOTA  vis    ols        2km  2020    11  14.0  20.0    54.0   \n1          31L.IOTA  vis    ols        2km  2020    11  14.0  21.0    23.0   \n2          31L.IOTA  vis    ols        2km  2020    11  14.0  21.0    26.0   \n7          31L.IOTA  vis    ols        2km  2020    11  15.0  12.0    10.0   \n12       20L.VICTOR   ir  modis        1km   NaN   NaN   NaN   NaN     NaN   \n...             ...  ...    ...        ...   ...   ...   ...   ...     ...   \n1764891    02L.BILL   ir    geo     1km_BD   NaN   NaN   NaN   NaN     NaN   \n1766030    02L.BILL   ir    geo     1km_BD   NaN   NaN   NaN   NaN     NaN   \n1768321   01.ARLENE   ir    geo        1km  1999     6  17.0  13.0    42.0   \n1770501   13L.KAREN  vis    geo        1km  2001    10  10.0  19.0    11.0   \n1787469   12L.HENRI   ir    geo   1kmcolor  2003     9   2.0  15.0     1.0   \n\n                        date satellite extension  \n0        2020-11-14 20:54:00       f15       jpg  \n1        2020-11-14 21:23:00       f18       jpg  \n2        2020-11-14 21:26:00       f16       jpg  \n7        2020-11-15 12:10:00       f17       jpg  \n12                       NaN  AL902021       jpg  \n...                      ...       ...       ...  \n1764891                  NaN  AL932021       jpg  \n1766030                  NaN  AL022021       jpg  \n1768321  1999-06-17 13:42:00      ssmi       jpg  \n1770501  2001-10-10 19:11:00      trmm       jpg  \n1787469  2003-09-02 15:01:00    goes-9       jpg  \n\n[131 rows x 15 columns]",
      "text/html": "<div>\n<style scoped>\n    .dataframe tbody tr th:only-of-type {\n        vertical-align: middle;\n    }\n\n    .dataframe tbody tr th {\n        vertical-align: top;\n    }\n\n    .dataframe thead th {\n        text-align: right;\n    }\n</style>\n<table border=\"1\" class=\"dataframe\">\n  <thead>\n    <tr style=\"text-align: right;\">\n      <th></th>\n      <th>image_url</th>\n      <th>season</th>\n      <th>basin</th>\n      <th>storm_name</th>\n      <th>type</th>\n      <th>sensor</th>\n      <th>resolution</th>\n      <th>year</th>\n      <th>month</th>\n      <th>day</th>\n      <th>hour</th>\n      <th>minute</th>\n      <th>date</th>\n      <th>satellite</th>\n      <th>extension</th>\n    </tr>\n  </thead>\n  <tbody>\n    <tr>\n      <th>0</th>\n      <td>https://www.nrlmry.navy.mil/tcdat/tc20/ATL/31L...</td>\n      <td>2020</td>\n      <td>ATL</td>\n      <td>31L.IOTA</td>\n      <td>vis</td>\n      <td>ols</td>\n      <td>2km</td>\n      <td>2020</td>\n      <td>11</td>\n      <td>14.0</td>\n      <td>20.0</td>\n      <td>54.0</td>\n      <td>2020-11-14 20:54:00</td>\n      <td>f15</td>\n      <td>jpg</td>\n    </tr>\n    <tr>\n      <th>1</th>\n      <td>https://www.nrlmry.navy.mil/tcdat/tc20/ATL/31L...</td>\n      <td>2020</td>\n      <td>ATL</td>\n      <td>31L.IOTA</td>\n      <td>vis</td>\n      <td>ols</td>\n      <td>2km</td>\n      <td>2020</td>\n      <td>11</td>\n      <td>14.0</td>\n      <td>21.0</td>\n      <td>23.0</td>\n      <td>2020-11-14 21:23:00</td>\n      <td>f18</td>\n      <td>jpg</td>\n    </tr>\n    <tr>\n      <th>2</th>\n      <td>https://www.nrlmry.navy.mil/tcdat/tc20/ATL/31L...</td>\n      <td>2020</td>\n      <td>ATL</td>\n      <td>31L.IOTA</td>\n      <td>vis</td>\n      <td>ols</td>\n      <td>2km</td>\n      <td>2020</td>\n      <td>11</td>\n      <td>14.0</td>\n      <td>21.0</td>\n      <td>26.0</td>\n      <td>2020-11-14 21:26:00</td>\n      <td>f16</td>\n      <td>jpg</td>\n    </tr>\n    <tr>\n      <th>7</th>\n      <td>https://www.nrlmry.navy.mil/tcdat/tc20/ATL/31L...</td>\n      <td>2020</td>\n      <td>ATL</td>\n      <td>31L.IOTA</td>\n      <td>vis</td>\n      <td>ols</td>\n      <td>2km</td>\n      <td>2020</td>\n      <td>11</td>\n      <td>15.0</td>\n      <td>12.0</td>\n      <td>10.0</td>\n      <td>2020-11-15 12:10:00</td>\n      <td>f17</td>\n      <td>jpg</td>\n    </tr>\n    <tr>\n      <th>12</th>\n      <td>https://www.nrlmry.navy.mil/tcdat/tc21/ATL/20L...</td>\n      <td>2021</td>\n      <td>ATL</td>\n      <td>20L.VICTOR</td>\n      <td>ir</td>\n      <td>modis</td>\n      <td>1km</td>\n      <td>NaN</td>\n      <td>NaN</td>\n      <td>NaN</td>\n      <td>NaN</td>\n      <td>NaN</td>\n      <td>NaN</td>\n      <td>AL902021</td>\n      <td>jpg</td>\n    </tr>\n    <tr>\n      <th>...</th>\n      <td>...</td>\n      <td>...</td>\n      <td>...</td>\n      <td>...</td>\n      <td>...</td>\n      <td>...</td>\n      <td>...</td>\n      <td>...</td>\n      <td>...</td>\n      <td>...</td>\n      <td>...</td>\n      <td>...</td>\n      <td>...</td>\n      <td>...</td>\n      <td>...</td>\n    </tr>\n    <tr>\n      <th>1764891</th>\n      <td>https://www.nrlmry.navy.mil/tcdat/tc21/ATL/02L...</td>\n      <td>2021</td>\n      <td>ATL</td>\n      <td>02L.BILL</td>\n      <td>ir</td>\n      <td>geo</td>\n      <td>1km_BD</td>\n      <td>NaN</td>\n      <td>NaN</td>\n      <td>NaN</td>\n      <td>NaN</td>\n      <td>NaN</td>\n      <td>NaN</td>\n      <td>AL932021</td>\n      <td>jpg</td>\n    </tr>\n    <tr>\n      <th>1766030</th>\n      <td>https://www.nrlmry.navy.mil/tcdat/tc21/ATL/02L...</td>\n      <td>2021</td>\n      <td>ATL</td>\n      <td>02L.BILL</td>\n      <td>ir</td>\n      <td>geo</td>\n      <td>1km_BD</td>\n      <td>NaN</td>\n      <td>NaN</td>\n      <td>NaN</td>\n      <td>NaN</td>\n      <td>NaN</td>\n      <td>NaN</td>\n      <td>AL022021</td>\n      <td>jpg</td>\n    </tr>\n    <tr>\n      <th>1768321</th>\n      <td>https://www.nrlmry.navy.mil/tcdat/tc99/ATL/01....</td>\n      <td>1999</td>\n      <td>ATL</td>\n      <td>01.ARLENE</td>\n      <td>ir</td>\n      <td>geo</td>\n      <td>1km</td>\n      <td>1999</td>\n      <td>6</td>\n      <td>17.0</td>\n      <td>13.0</td>\n      <td>42.0</td>\n      <td>1999-06-17 13:42:00</td>\n      <td>ssmi</td>\n      <td>jpg</td>\n    </tr>\n    <tr>\n      <th>1770501</th>\n      <td>https://www.nrlmry.navy.mil/tcdat/tc01/ATL/13L...</td>\n      <td>2001</td>\n      <td>ATL</td>\n      <td>13L.KAREN</td>\n      <td>vis</td>\n      <td>geo</td>\n      <td>1km</td>\n      <td>2001</td>\n      <td>10</td>\n      <td>10.0</td>\n      <td>19.0</td>\n      <td>11.0</td>\n      <td>2001-10-10 19:11:00</td>\n      <td>trmm</td>\n      <td>jpg</td>\n    </tr>\n    <tr>\n      <th>1787469</th>\n      <td>https://www.nrlmry.navy.mil/tcdat/tc03/ATL/12L...</td>\n      <td>2003</td>\n      <td>ATL</td>\n      <td>12L.HENRI</td>\n      <td>ir</td>\n      <td>geo</td>\n      <td>1kmcolor</td>\n      <td>2003</td>\n      <td>9</td>\n      <td>2.0</td>\n      <td>15.0</td>\n      <td>1.0</td>\n      <td>2003-09-02 15:01:00</td>\n      <td>goes-9</td>\n      <td>jpg</td>\n    </tr>\n  </tbody>\n</table>\n<p>131 rows × 15 columns</p>\n</div>"
     },
     "execution_count": 8,
     "metadata": {},
     "output_type": "execute_result"
    }
   ],
   "source": [
    "df.drop_duplicates(subset = [\"satellite\"])"
   ],
   "metadata": {
    "collapsed": false,
    "pycharm": {
     "name": "#%%\n"
    },
    "ExecuteTime": {
     "end_time": "2024-02-23T00:16:26.407813100Z",
     "start_time": "2024-02-23T00:16:26.345312100Z"
    }
   }
  },
  {
   "cell_type": "code",
   "execution_count": 9,
   "outputs": [],
   "source": [
    "ir = df.loc[df['type'] == 'ir'].loc[df['resolution'] == '1km'].loc[df['sensor'] == 'geo']"
   ],
   "metadata": {
    "collapsed": false,
    "pycharm": {
     "name": "#%%\n"
    },
    "ExecuteTime": {
     "end_time": "2024-02-23T00:16:30.710307100Z",
     "start_time": "2024-02-23T00:16:29.890915600Z"
    }
   }
  },
  {
   "cell_type": "code",
   "execution_count": 12,
   "outputs": [
    {
     "data": {
      "text/plain": "                                                 image_url season basin  \\\n127      https://www.nrlmry.navy.mil/tcdat/tc21/ATL/20L...   2021   ATL   \n210      https://www.nrlmry.navy.mil/tcdat/tc21/ATL/20L...   2021   ATL   \n211      https://www.nrlmry.navy.mil/tcdat/tc21/ATL/20L...   2021   ATL   \n212      https://www.nrlmry.navy.mil/tcdat/tc21/ATL/20L...   2021   ATL   \n213      https://www.nrlmry.navy.mil/tcdat/tc21/ATL/20L...   2021   ATL   \n...                                                    ...    ...   ...   \n2515451  https://www.nrlmry.navy.mil/tcdat/tc15/ATL/02L...   2015   ATL   \n2515452  https://www.nrlmry.navy.mil/tcdat/tc15/ATL/02L...   2015   ATL   \n2515453  https://www.nrlmry.navy.mil/tcdat/tc15/ATL/02L...   2015   ATL   \n2515454  https://www.nrlmry.navy.mil/tcdat/tc15/ATL/02L...   2015   ATL   \n2515455  https://www.nrlmry.navy.mil/tcdat/tc15/ATL/02L...   2015   ATL   \n\n         storm_name type sensor resolution    year month  day  hour  minute  \\\n127      20L.VICTOR   ir    geo        1km     NaN   NaN  NaN   NaN     NaN   \n210      20L.VICTOR   ir    geo        1km     NaN   NaN  NaN   NaN     NaN   \n211      20L.VICTOR   ir    geo        1km     NaN   NaN  NaN   NaN     NaN   \n212      20L.VICTOR   ir    geo        1km     NaN   NaN  NaN   NaN     NaN   \n213      20L.VICTOR   ir    geo        1km     NaN   NaN  NaN   NaN     NaN   \n...             ...  ...    ...        ...     ...   ...  ...   ...     ...   \n2515451    02L.BILL   ir    geo        1km  goes13   jpg  NaN   NaN     NaN   \n2515452    02L.BILL   ir    geo        1km  goes13   jpg  NaN   NaN     NaN   \n2515453    02L.BILL   ir    geo        1km  goes15   jpg  NaN   NaN     NaN   \n2515454    02L.BILL   ir    geo        1km  goes13   jpg  NaN   NaN     NaN   \n2515455    02L.BILL   ir    geo        1km  goes13   jpg  NaN   NaN     NaN   \n\n        date satellite extension  \n127      NaN  AL902021       jpg  \n210      NaN  AL902021       jpg  \n211      NaN  AL902021       jpg  \n212      NaN  AL902021       jpg  \n213      NaN  AL902021       jpg  \n...      ...       ...       ...  \n2515451  NaN       NaN       NaN  \n2515452  NaN       NaN       NaN  \n2515453  NaN       NaN       NaN  \n2515454  NaN       NaN       NaN  \n2515455  NaN       NaN       NaN  \n\n[999098 rows x 15 columns]",
      "text/html": "<div>\n<style scoped>\n    .dataframe tbody tr th:only-of-type {\n        vertical-align: middle;\n    }\n\n    .dataframe tbody tr th {\n        vertical-align: top;\n    }\n\n    .dataframe thead th {\n        text-align: right;\n    }\n</style>\n<table border=\"1\" class=\"dataframe\">\n  <thead>\n    <tr style=\"text-align: right;\">\n      <th></th>\n      <th>image_url</th>\n      <th>season</th>\n      <th>basin</th>\n      <th>storm_name</th>\n      <th>type</th>\n      <th>sensor</th>\n      <th>resolution</th>\n      <th>year</th>\n      <th>month</th>\n      <th>day</th>\n      <th>hour</th>\n      <th>minute</th>\n      <th>date</th>\n      <th>satellite</th>\n      <th>extension</th>\n    </tr>\n  </thead>\n  <tbody>\n    <tr>\n      <th>127</th>\n      <td>https://www.nrlmry.navy.mil/tcdat/tc21/ATL/20L...</td>\n      <td>2021</td>\n      <td>ATL</td>\n      <td>20L.VICTOR</td>\n      <td>ir</td>\n      <td>geo</td>\n      <td>1km</td>\n      <td>NaN</td>\n      <td>NaN</td>\n      <td>NaN</td>\n      <td>NaN</td>\n      <td>NaN</td>\n      <td>NaN</td>\n      <td>AL902021</td>\n      <td>jpg</td>\n    </tr>\n    <tr>\n      <th>210</th>\n      <td>https://www.nrlmry.navy.mil/tcdat/tc21/ATL/20L...</td>\n      <td>2021</td>\n      <td>ATL</td>\n      <td>20L.VICTOR</td>\n      <td>ir</td>\n      <td>geo</td>\n      <td>1km</td>\n      <td>NaN</td>\n      <td>NaN</td>\n      <td>NaN</td>\n      <td>NaN</td>\n      <td>NaN</td>\n      <td>NaN</td>\n      <td>AL902021</td>\n      <td>jpg</td>\n    </tr>\n    <tr>\n      <th>211</th>\n      <td>https://www.nrlmry.navy.mil/tcdat/tc21/ATL/20L...</td>\n      <td>2021</td>\n      <td>ATL</td>\n      <td>20L.VICTOR</td>\n      <td>ir</td>\n      <td>geo</td>\n      <td>1km</td>\n      <td>NaN</td>\n      <td>NaN</td>\n      <td>NaN</td>\n      <td>NaN</td>\n      <td>NaN</td>\n      <td>NaN</td>\n      <td>AL902021</td>\n      <td>jpg</td>\n    </tr>\n    <tr>\n      <th>212</th>\n      <td>https://www.nrlmry.navy.mil/tcdat/tc21/ATL/20L...</td>\n      <td>2021</td>\n      <td>ATL</td>\n      <td>20L.VICTOR</td>\n      <td>ir</td>\n      <td>geo</td>\n      <td>1km</td>\n      <td>NaN</td>\n      <td>NaN</td>\n      <td>NaN</td>\n      <td>NaN</td>\n      <td>NaN</td>\n      <td>NaN</td>\n      <td>AL902021</td>\n      <td>jpg</td>\n    </tr>\n    <tr>\n      <th>213</th>\n      <td>https://www.nrlmry.navy.mil/tcdat/tc21/ATL/20L...</td>\n      <td>2021</td>\n      <td>ATL</td>\n      <td>20L.VICTOR</td>\n      <td>ir</td>\n      <td>geo</td>\n      <td>1km</td>\n      <td>NaN</td>\n      <td>NaN</td>\n      <td>NaN</td>\n      <td>NaN</td>\n      <td>NaN</td>\n      <td>NaN</td>\n      <td>AL902021</td>\n      <td>jpg</td>\n    </tr>\n    <tr>\n      <th>...</th>\n      <td>...</td>\n      <td>...</td>\n      <td>...</td>\n      <td>...</td>\n      <td>...</td>\n      <td>...</td>\n      <td>...</td>\n      <td>...</td>\n      <td>...</td>\n      <td>...</td>\n      <td>...</td>\n      <td>...</td>\n      <td>...</td>\n      <td>...</td>\n      <td>...</td>\n    </tr>\n    <tr>\n      <th>2515451</th>\n      <td>https://www.nrlmry.navy.mil/tcdat/tc15/ATL/02L...</td>\n      <td>2015</td>\n      <td>ATL</td>\n      <td>02L.BILL</td>\n      <td>ir</td>\n      <td>geo</td>\n      <td>1km</td>\n      <td>goes13</td>\n      <td>jpg</td>\n      <td>NaN</td>\n      <td>NaN</td>\n      <td>NaN</td>\n      <td>NaN</td>\n      <td>NaN</td>\n      <td>NaN</td>\n    </tr>\n    <tr>\n      <th>2515452</th>\n      <td>https://www.nrlmry.navy.mil/tcdat/tc15/ATL/02L...</td>\n      <td>2015</td>\n      <td>ATL</td>\n      <td>02L.BILL</td>\n      <td>ir</td>\n      <td>geo</td>\n      <td>1km</td>\n      <td>goes13</td>\n      <td>jpg</td>\n      <td>NaN</td>\n      <td>NaN</td>\n      <td>NaN</td>\n      <td>NaN</td>\n      <td>NaN</td>\n      <td>NaN</td>\n    </tr>\n    <tr>\n      <th>2515453</th>\n      <td>https://www.nrlmry.navy.mil/tcdat/tc15/ATL/02L...</td>\n      <td>2015</td>\n      <td>ATL</td>\n      <td>02L.BILL</td>\n      <td>ir</td>\n      <td>geo</td>\n      <td>1km</td>\n      <td>goes15</td>\n      <td>jpg</td>\n      <td>NaN</td>\n      <td>NaN</td>\n      <td>NaN</td>\n      <td>NaN</td>\n      <td>NaN</td>\n      <td>NaN</td>\n    </tr>\n    <tr>\n      <th>2515454</th>\n      <td>https://www.nrlmry.navy.mil/tcdat/tc15/ATL/02L...</td>\n      <td>2015</td>\n      <td>ATL</td>\n      <td>02L.BILL</td>\n      <td>ir</td>\n      <td>geo</td>\n      <td>1km</td>\n      <td>goes13</td>\n      <td>jpg</td>\n      <td>NaN</td>\n      <td>NaN</td>\n      <td>NaN</td>\n      <td>NaN</td>\n      <td>NaN</td>\n      <td>NaN</td>\n    </tr>\n    <tr>\n      <th>2515455</th>\n      <td>https://www.nrlmry.navy.mil/tcdat/tc15/ATL/02L...</td>\n      <td>2015</td>\n      <td>ATL</td>\n      <td>02L.BILL</td>\n      <td>ir</td>\n      <td>geo</td>\n      <td>1km</td>\n      <td>goes13</td>\n      <td>jpg</td>\n      <td>NaN</td>\n      <td>NaN</td>\n      <td>NaN</td>\n      <td>NaN</td>\n      <td>NaN</td>\n      <td>NaN</td>\n    </tr>\n  </tbody>\n</table>\n<p>999098 rows × 15 columns</p>\n</div>"
     },
     "execution_count": 12,
     "metadata": {},
     "output_type": "execute_result"
    }
   ],
   "source": [
    "ir"
   ],
   "metadata": {
    "collapsed": false,
    "pycharm": {
     "name": "#%%\n"
    },
    "ExecuteTime": {
     "end_time": "2024-02-23T00:16:59.811560Z",
     "start_time": "2024-02-23T00:16:59.795934500Z"
    }
   }
  },
  {
   "cell_type": "code",
   "execution_count": 11,
   "outputs": [
    {
     "ename": "NameError",
     "evalue": "name 'arr' is not defined",
     "output_type": "error",
     "traceback": [
      "\u001B[1;31m---------------------------------------------------------------------------\u001B[0m",
      "\u001B[1;31mNameError\u001B[0m                                 Traceback (most recent call last)",
      "\u001B[1;32m<ipython-input-11-d57128e75ee3>\u001B[0m in \u001B[0;36m<module>\u001B[1;34m\u001B[0m\n\u001B[1;32m----> 1\u001B[1;33m \u001B[0mdatetime\u001B[0m\u001B[1;33m(\u001B[0m\u001B[0mint\u001B[0m\u001B[1;33m(\u001B[0m\u001B[0marr\u001B[0m\u001B[1;33m[\u001B[0m\u001B[1;36m0\u001B[0m\u001B[1;33m]\u001B[0m\u001B[1;33m[\u001B[0m\u001B[1;33m:\u001B[0m\u001B[1;36m4\u001B[0m\u001B[1;33m]\u001B[0m\u001B[1;33m)\u001B[0m\u001B[1;33m,\u001B[0m \u001B[0mint\u001B[0m\u001B[1;33m(\u001B[0m\u001B[0marr\u001B[0m\u001B[1;33m[\u001B[0m\u001B[1;36m0\u001B[0m\u001B[1;33m]\u001B[0m\u001B[1;33m[\u001B[0m\u001B[1;36m4\u001B[0m\u001B[1;33m:\u001B[0m\u001B[1;36m6\u001B[0m\u001B[1;33m]\u001B[0m\u001B[1;33m)\u001B[0m\u001B[1;33m,\u001B[0m \u001B[0mint\u001B[0m\u001B[1;33m(\u001B[0m\u001B[0marr\u001B[0m\u001B[1;33m[\u001B[0m\u001B[1;36m0\u001B[0m\u001B[1;33m]\u001B[0m\u001B[1;33m[\u001B[0m\u001B[1;36m6\u001B[0m\u001B[1;33m:\u001B[0m\u001B[1;33m]\u001B[0m\u001B[1;33m)\u001B[0m\u001B[1;33m,\u001B[0m \u001B[0mint\u001B[0m\u001B[1;33m(\u001B[0m\u001B[0marr\u001B[0m\u001B[1;33m[\u001B[0m\u001B[1;36m1\u001B[0m\u001B[1;33m]\u001B[0m\u001B[1;33m[\u001B[0m\u001B[1;33m:\u001B[0m\u001B[1;36m2\u001B[0m\u001B[1;33m]\u001B[0m\u001B[1;33m)\u001B[0m\u001B[1;33m,\u001B[0m \u001B[0mint\u001B[0m\u001B[1;33m(\u001B[0m\u001B[0marr\u001B[0m\u001B[1;33m[\u001B[0m\u001B[1;36m1\u001B[0m\u001B[1;33m]\u001B[0m\u001B[1;33m[\u001B[0m\u001B[1;36m2\u001B[0m\u001B[1;33m:\u001B[0m\u001B[1;33m]\u001B[0m\u001B[1;33m)\u001B[0m\u001B[1;33m)\u001B[0m\u001B[1;33m\u001B[0m\u001B[1;33m\u001B[0m\u001B[0m\n\u001B[0m",
      "\u001B[1;31mNameError\u001B[0m: name 'arr' is not defined"
     ]
    }
   ],
   "source": [
    "datetime(int(arr[0][:4]), int(arr[0][4:6]), int(arr[0][6:]), int(arr[1][:2]), int(arr[1][2:]))"
   ],
   "metadata": {
    "collapsed": false,
    "pycharm": {
     "name": "#%%\n"
    },
    "ExecuteTime": {
     "end_time": "2024-02-23T00:16:35.796Z",
     "start_time": "2024-02-23T00:16:35.764749400Z"
    }
   }
  },
  {
   "cell_type": "code",
   "execution_count": null,
   "outputs": [],
   "source": [
    "ir[\"date_time\"] = ir['image_url'].split('/')[-1].split('.')"
   ],
   "metadata": {
    "collapsed": false,
    "pycharm": {
     "name": "#%%\n"
    }
   }
  },
  {
   "cell_type": "code",
   "execution_count": 26,
   "outputs": [],
   "source": [
    "pointDF = pd.read_json('./track_points.json')"
   ],
   "metadata": {
    "collapsed": false,
    "pycharm": {
     "name": "#%%\n"
    }
   }
  },
  {
   "cell_type": "code",
   "execution_count": 33,
   "outputs": [
    {
     "data": {
      "text/plain": "                id  year  month  day  hours  minutes           date_time  \\\n0  AL011851UNNAMED  1851      6   25      0        0 1851-06-25 00:00:00   \n1  AL011851UNNAMED  1851      6   25      6        0 1851-06-25 06:00:00   \n2  AL011851UNNAMED  1851      6   25     12        0 1851-06-25 12:00:00   \n3  AL011851UNNAMED  1851      6   25     18        0 1851-06-25 18:00:00   \n4  AL011851UNNAMED  1851      6   25     21        0 1851-06-25 21:00:00   \n5  AL011851UNNAMED  1851      6   26      0        0 1851-06-26 00:00:00   \n6  AL011851UNNAMED  1851      6   26      6        0 1851-06-26 06:00:00   \n7  AL011851UNNAMED  1851      6   26     12        0 1851-06-26 12:00:00   \n8  AL011851UNNAMED  1851      6   26     18        0 1851-06-26 18:00:00   \n9  AL011851UNNAMED  1851      6   27      0        0 1851-06-27 00:00:00   \n\n  record_type status  latitude  ...  50_ne_poly  50_se_poly  50_sw_poly  \\\n0                 HU      28.0  ...         NaN         NaN         NaN   \n1                 HU      28.0  ...         NaN         NaN         NaN   \n2                 HU      28.0  ...         NaN         NaN         NaN   \n3                 HU      28.1  ...         NaN         NaN         NaN   \n4           L     HU      28.2  ...         NaN         NaN         NaN   \n5                 HU      28.2  ...         NaN         NaN         NaN   \n6                 TS      28.3  ...         NaN         NaN         NaN   \n7                 TS      28.4  ...         NaN         NaN         NaN   \n8                 TS      28.6  ...         NaN         NaN         NaN   \n9                 TS      29.0  ...         NaN         NaN         NaN   \n\n   50_nw_poly  64_ne_poly  64_se_poly  64_sw_poly  64_nw_poly  \\\n0         NaN         NaN         NaN         NaN         NaN   \n1         NaN         NaN         NaN         NaN         NaN   \n2         NaN         NaN         NaN         NaN         NaN   \n3         NaN         NaN         NaN         NaN         NaN   \n4         NaN         NaN         NaN         NaN         NaN   \n5         NaN         NaN         NaN         NaN         NaN   \n6         NaN         NaN         NaN         NaN         NaN   \n7         NaN         NaN         NaN         NaN         NaN   \n8         NaN         NaN         NaN         NaN         NaN   \n9         NaN         NaN         NaN         NaN         NaN   \n\n   max_wind_radius  max_wind_poly  \n0              NaN            NaN  \n1              NaN            NaN  \n2              NaN            NaN  \n3              NaN            NaN  \n4              NaN            NaN  \n5              NaN            NaN  \n6              NaN            NaN  \n7              NaN            NaN  \n8              NaN            NaN  \n9              NaN            NaN  \n\n[10 rows x 40 columns]",
      "text/html": "<div>\n<style scoped>\n    .dataframe tbody tr th:only-of-type {\n        vertical-align: middle;\n    }\n\n    .dataframe tbody tr th {\n        vertical-align: top;\n    }\n\n    .dataframe thead th {\n        text-align: right;\n    }\n</style>\n<table border=\"1\" class=\"dataframe\">\n  <thead>\n    <tr style=\"text-align: right;\">\n      <th></th>\n      <th>id</th>\n      <th>year</th>\n      <th>month</th>\n      <th>day</th>\n      <th>hours</th>\n      <th>minutes</th>\n      <th>date_time</th>\n      <th>record_type</th>\n      <th>status</th>\n      <th>latitude</th>\n      <th>...</th>\n      <th>50_ne_poly</th>\n      <th>50_se_poly</th>\n      <th>50_sw_poly</th>\n      <th>50_nw_poly</th>\n      <th>64_ne_poly</th>\n      <th>64_se_poly</th>\n      <th>64_sw_poly</th>\n      <th>64_nw_poly</th>\n      <th>max_wind_radius</th>\n      <th>max_wind_poly</th>\n    </tr>\n  </thead>\n  <tbody>\n    <tr>\n      <th>0</th>\n      <td>AL011851UNNAMED</td>\n      <td>1851</td>\n      <td>6</td>\n      <td>25</td>\n      <td>0</td>\n      <td>0</td>\n      <td>1851-06-25 00:00:00</td>\n      <td></td>\n      <td>HU</td>\n      <td>28.0</td>\n      <td>...</td>\n      <td>NaN</td>\n      <td>NaN</td>\n      <td>NaN</td>\n      <td>NaN</td>\n      <td>NaN</td>\n      <td>NaN</td>\n      <td>NaN</td>\n      <td>NaN</td>\n      <td>NaN</td>\n      <td>NaN</td>\n    </tr>\n    <tr>\n      <th>1</th>\n      <td>AL011851UNNAMED</td>\n      <td>1851</td>\n      <td>6</td>\n      <td>25</td>\n      <td>6</td>\n      <td>0</td>\n      <td>1851-06-25 06:00:00</td>\n      <td></td>\n      <td>HU</td>\n      <td>28.0</td>\n      <td>...</td>\n      <td>NaN</td>\n      <td>NaN</td>\n      <td>NaN</td>\n      <td>NaN</td>\n      <td>NaN</td>\n      <td>NaN</td>\n      <td>NaN</td>\n      <td>NaN</td>\n      <td>NaN</td>\n      <td>NaN</td>\n    </tr>\n    <tr>\n      <th>2</th>\n      <td>AL011851UNNAMED</td>\n      <td>1851</td>\n      <td>6</td>\n      <td>25</td>\n      <td>12</td>\n      <td>0</td>\n      <td>1851-06-25 12:00:00</td>\n      <td></td>\n      <td>HU</td>\n      <td>28.0</td>\n      <td>...</td>\n      <td>NaN</td>\n      <td>NaN</td>\n      <td>NaN</td>\n      <td>NaN</td>\n      <td>NaN</td>\n      <td>NaN</td>\n      <td>NaN</td>\n      <td>NaN</td>\n      <td>NaN</td>\n      <td>NaN</td>\n    </tr>\n    <tr>\n      <th>3</th>\n      <td>AL011851UNNAMED</td>\n      <td>1851</td>\n      <td>6</td>\n      <td>25</td>\n      <td>18</td>\n      <td>0</td>\n      <td>1851-06-25 18:00:00</td>\n      <td></td>\n      <td>HU</td>\n      <td>28.1</td>\n      <td>...</td>\n      <td>NaN</td>\n      <td>NaN</td>\n      <td>NaN</td>\n      <td>NaN</td>\n      <td>NaN</td>\n      <td>NaN</td>\n      <td>NaN</td>\n      <td>NaN</td>\n      <td>NaN</td>\n      <td>NaN</td>\n    </tr>\n    <tr>\n      <th>4</th>\n      <td>AL011851UNNAMED</td>\n      <td>1851</td>\n      <td>6</td>\n      <td>25</td>\n      <td>21</td>\n      <td>0</td>\n      <td>1851-06-25 21:00:00</td>\n      <td>L</td>\n      <td>HU</td>\n      <td>28.2</td>\n      <td>...</td>\n      <td>NaN</td>\n      <td>NaN</td>\n      <td>NaN</td>\n      <td>NaN</td>\n      <td>NaN</td>\n      <td>NaN</td>\n      <td>NaN</td>\n      <td>NaN</td>\n      <td>NaN</td>\n      <td>NaN</td>\n    </tr>\n    <tr>\n      <th>5</th>\n      <td>AL011851UNNAMED</td>\n      <td>1851</td>\n      <td>6</td>\n      <td>26</td>\n      <td>0</td>\n      <td>0</td>\n      <td>1851-06-26 00:00:00</td>\n      <td></td>\n      <td>HU</td>\n      <td>28.2</td>\n      <td>...</td>\n      <td>NaN</td>\n      <td>NaN</td>\n      <td>NaN</td>\n      <td>NaN</td>\n      <td>NaN</td>\n      <td>NaN</td>\n      <td>NaN</td>\n      <td>NaN</td>\n      <td>NaN</td>\n      <td>NaN</td>\n    </tr>\n    <tr>\n      <th>6</th>\n      <td>AL011851UNNAMED</td>\n      <td>1851</td>\n      <td>6</td>\n      <td>26</td>\n      <td>6</td>\n      <td>0</td>\n      <td>1851-06-26 06:00:00</td>\n      <td></td>\n      <td>TS</td>\n      <td>28.3</td>\n      <td>...</td>\n      <td>NaN</td>\n      <td>NaN</td>\n      <td>NaN</td>\n      <td>NaN</td>\n      <td>NaN</td>\n      <td>NaN</td>\n      <td>NaN</td>\n      <td>NaN</td>\n      <td>NaN</td>\n      <td>NaN</td>\n    </tr>\n    <tr>\n      <th>7</th>\n      <td>AL011851UNNAMED</td>\n      <td>1851</td>\n      <td>6</td>\n      <td>26</td>\n      <td>12</td>\n      <td>0</td>\n      <td>1851-06-26 12:00:00</td>\n      <td></td>\n      <td>TS</td>\n      <td>28.4</td>\n      <td>...</td>\n      <td>NaN</td>\n      <td>NaN</td>\n      <td>NaN</td>\n      <td>NaN</td>\n      <td>NaN</td>\n      <td>NaN</td>\n      <td>NaN</td>\n      <td>NaN</td>\n      <td>NaN</td>\n      <td>NaN</td>\n    </tr>\n    <tr>\n      <th>8</th>\n      <td>AL011851UNNAMED</td>\n      <td>1851</td>\n      <td>6</td>\n      <td>26</td>\n      <td>18</td>\n      <td>0</td>\n      <td>1851-06-26 18:00:00</td>\n      <td></td>\n      <td>TS</td>\n      <td>28.6</td>\n      <td>...</td>\n      <td>NaN</td>\n      <td>NaN</td>\n      <td>NaN</td>\n      <td>NaN</td>\n      <td>NaN</td>\n      <td>NaN</td>\n      <td>NaN</td>\n      <td>NaN</td>\n      <td>NaN</td>\n      <td>NaN</td>\n    </tr>\n    <tr>\n      <th>9</th>\n      <td>AL011851UNNAMED</td>\n      <td>1851</td>\n      <td>6</td>\n      <td>27</td>\n      <td>0</td>\n      <td>0</td>\n      <td>1851-06-27 00:00:00</td>\n      <td></td>\n      <td>TS</td>\n      <td>29.0</td>\n      <td>...</td>\n      <td>NaN</td>\n      <td>NaN</td>\n      <td>NaN</td>\n      <td>NaN</td>\n      <td>NaN</td>\n      <td>NaN</td>\n      <td>NaN</td>\n      <td>NaN</td>\n      <td>NaN</td>\n      <td>NaN</td>\n    </tr>\n  </tbody>\n</table>\n<p>10 rows × 40 columns</p>\n</div>"
     },
     "execution_count": 33,
     "metadata": {},
     "output_type": "execute_result"
    }
   ],
   "source": [
    "pointDF.head(10)"
   ],
   "metadata": {
    "collapsed": false,
    "pycharm": {
     "name": "#%%\n"
    }
   }
  },
  {
   "cell_type": "code",
   "execution_count": 34,
   "outputs": [],
   "source": [
    "point1998DF = pointDF.loc[pointDF['year'] > 1998]"
   ],
   "metadata": {
    "collapsed": false,
    "pycharm": {
     "name": "#%%\n"
    }
   }
  },
  {
   "cell_type": "code",
   "execution_count": 35,
   "outputs": [
    {
     "data": {
      "text/plain": "                   id  year  month  day  hours  minutes           date_time  \\\n41310  AL011999ARLENE  1999      6   11     18        0 1999-06-11 18:00:00   \n41311  AL011999ARLENE  1999      6   12      0        0 1999-06-12 00:00:00   \n41312  AL011999ARLENE  1999      6   12      6        0 1999-06-12 06:00:00   \n41313  AL011999ARLENE  1999      6   12     12        0 1999-06-12 12:00:00   \n41314  AL011999ARLENE  1999      6   12     18        0 1999-06-12 18:00:00   \n41315  AL011999ARLENE  1999      6   13      0        0 1999-06-13 00:00:00   \n41316  AL011999ARLENE  1999      6   13      6        0 1999-06-13 06:00:00   \n41317  AL011999ARLENE  1999      6   13     12        0 1999-06-13 12:00:00   \n41318  AL011999ARLENE  1999      6   13     18        0 1999-06-13 18:00:00   \n41319  AL011999ARLENE  1999      6   14      0        0 1999-06-14 00:00:00   \n\n      record_type status  latitude  ...  50_ne_poly  50_se_poly  50_sw_poly  \\\n41310                 TD      27.1  ...         NaN         NaN         NaN   \n41311                 TD      27.7  ...         NaN         NaN         NaN   \n41312                 TD      28.1  ...         NaN         NaN         NaN   \n41313                 TS      28.3  ...         NaN         NaN         NaN   \n41314                 TS      28.5  ...         NaN         NaN         NaN   \n41315                 TS      28.8  ...         NaN         NaN         NaN   \n41316                 TS      29.0  ...         NaN         NaN         NaN   \n41317                 TS      29.1  ...         NaN         NaN         NaN   \n41318                 TS      29.1  ...         NaN         NaN         NaN   \n41319                 TS      29.1  ...         NaN         NaN         NaN   \n\n       50_nw_poly  64_ne_poly  64_se_poly  64_sw_poly  64_nw_poly  \\\n41310         NaN         NaN         NaN         NaN         NaN   \n41311         NaN         NaN         NaN         NaN         NaN   \n41312         NaN         NaN         NaN         NaN         NaN   \n41313         NaN         NaN         NaN         NaN         NaN   \n41314         NaN         NaN         NaN         NaN         NaN   \n41315         NaN         NaN         NaN         NaN         NaN   \n41316         NaN         NaN         NaN         NaN         NaN   \n41317         NaN         NaN         NaN         NaN         NaN   \n41318         NaN         NaN         NaN         NaN         NaN   \n41319         NaN         NaN         NaN         NaN         NaN   \n\n       max_wind_radius  max_wind_poly  \n41310              NaN            NaN  \n41311              NaN            NaN  \n41312              NaN            NaN  \n41313              NaN            NaN  \n41314              NaN            NaN  \n41315              NaN            NaN  \n41316              NaN            NaN  \n41317              NaN            NaN  \n41318              NaN            NaN  \n41319              NaN            NaN  \n\n[10 rows x 40 columns]",
      "text/html": "<div>\n<style scoped>\n    .dataframe tbody tr th:only-of-type {\n        vertical-align: middle;\n    }\n\n    .dataframe tbody tr th {\n        vertical-align: top;\n    }\n\n    .dataframe thead th {\n        text-align: right;\n    }\n</style>\n<table border=\"1\" class=\"dataframe\">\n  <thead>\n    <tr style=\"text-align: right;\">\n      <th></th>\n      <th>id</th>\n      <th>year</th>\n      <th>month</th>\n      <th>day</th>\n      <th>hours</th>\n      <th>minutes</th>\n      <th>date_time</th>\n      <th>record_type</th>\n      <th>status</th>\n      <th>latitude</th>\n      <th>...</th>\n      <th>50_ne_poly</th>\n      <th>50_se_poly</th>\n      <th>50_sw_poly</th>\n      <th>50_nw_poly</th>\n      <th>64_ne_poly</th>\n      <th>64_se_poly</th>\n      <th>64_sw_poly</th>\n      <th>64_nw_poly</th>\n      <th>max_wind_radius</th>\n      <th>max_wind_poly</th>\n    </tr>\n  </thead>\n  <tbody>\n    <tr>\n      <th>41310</th>\n      <td>AL011999ARLENE</td>\n      <td>1999</td>\n      <td>6</td>\n      <td>11</td>\n      <td>18</td>\n      <td>0</td>\n      <td>1999-06-11 18:00:00</td>\n      <td></td>\n      <td>TD</td>\n      <td>27.1</td>\n      <td>...</td>\n      <td>NaN</td>\n      <td>NaN</td>\n      <td>NaN</td>\n      <td>NaN</td>\n      <td>NaN</td>\n      <td>NaN</td>\n      <td>NaN</td>\n      <td>NaN</td>\n      <td>NaN</td>\n      <td>NaN</td>\n    </tr>\n    <tr>\n      <th>41311</th>\n      <td>AL011999ARLENE</td>\n      <td>1999</td>\n      <td>6</td>\n      <td>12</td>\n      <td>0</td>\n      <td>0</td>\n      <td>1999-06-12 00:00:00</td>\n      <td></td>\n      <td>TD</td>\n      <td>27.7</td>\n      <td>...</td>\n      <td>NaN</td>\n      <td>NaN</td>\n      <td>NaN</td>\n      <td>NaN</td>\n      <td>NaN</td>\n      <td>NaN</td>\n      <td>NaN</td>\n      <td>NaN</td>\n      <td>NaN</td>\n      <td>NaN</td>\n    </tr>\n    <tr>\n      <th>41312</th>\n      <td>AL011999ARLENE</td>\n      <td>1999</td>\n      <td>6</td>\n      <td>12</td>\n      <td>6</td>\n      <td>0</td>\n      <td>1999-06-12 06:00:00</td>\n      <td></td>\n      <td>TD</td>\n      <td>28.1</td>\n      <td>...</td>\n      <td>NaN</td>\n      <td>NaN</td>\n      <td>NaN</td>\n      <td>NaN</td>\n      <td>NaN</td>\n      <td>NaN</td>\n      <td>NaN</td>\n      <td>NaN</td>\n      <td>NaN</td>\n      <td>NaN</td>\n    </tr>\n    <tr>\n      <th>41313</th>\n      <td>AL011999ARLENE</td>\n      <td>1999</td>\n      <td>6</td>\n      <td>12</td>\n      <td>12</td>\n      <td>0</td>\n      <td>1999-06-12 12:00:00</td>\n      <td></td>\n      <td>TS</td>\n      <td>28.3</td>\n      <td>...</td>\n      <td>NaN</td>\n      <td>NaN</td>\n      <td>NaN</td>\n      <td>NaN</td>\n      <td>NaN</td>\n      <td>NaN</td>\n      <td>NaN</td>\n      <td>NaN</td>\n      <td>NaN</td>\n      <td>NaN</td>\n    </tr>\n    <tr>\n      <th>41314</th>\n      <td>AL011999ARLENE</td>\n      <td>1999</td>\n      <td>6</td>\n      <td>12</td>\n      <td>18</td>\n      <td>0</td>\n      <td>1999-06-12 18:00:00</td>\n      <td></td>\n      <td>TS</td>\n      <td>28.5</td>\n      <td>...</td>\n      <td>NaN</td>\n      <td>NaN</td>\n      <td>NaN</td>\n      <td>NaN</td>\n      <td>NaN</td>\n      <td>NaN</td>\n      <td>NaN</td>\n      <td>NaN</td>\n      <td>NaN</td>\n      <td>NaN</td>\n    </tr>\n    <tr>\n      <th>41315</th>\n      <td>AL011999ARLENE</td>\n      <td>1999</td>\n      <td>6</td>\n      <td>13</td>\n      <td>0</td>\n      <td>0</td>\n      <td>1999-06-13 00:00:00</td>\n      <td></td>\n      <td>TS</td>\n      <td>28.8</td>\n      <td>...</td>\n      <td>NaN</td>\n      <td>NaN</td>\n      <td>NaN</td>\n      <td>NaN</td>\n      <td>NaN</td>\n      <td>NaN</td>\n      <td>NaN</td>\n      <td>NaN</td>\n      <td>NaN</td>\n      <td>NaN</td>\n    </tr>\n    <tr>\n      <th>41316</th>\n      <td>AL011999ARLENE</td>\n      <td>1999</td>\n      <td>6</td>\n      <td>13</td>\n      <td>6</td>\n      <td>0</td>\n      <td>1999-06-13 06:00:00</td>\n      <td></td>\n      <td>TS</td>\n      <td>29.0</td>\n      <td>...</td>\n      <td>NaN</td>\n      <td>NaN</td>\n      <td>NaN</td>\n      <td>NaN</td>\n      <td>NaN</td>\n      <td>NaN</td>\n      <td>NaN</td>\n      <td>NaN</td>\n      <td>NaN</td>\n      <td>NaN</td>\n    </tr>\n    <tr>\n      <th>41317</th>\n      <td>AL011999ARLENE</td>\n      <td>1999</td>\n      <td>6</td>\n      <td>13</td>\n      <td>12</td>\n      <td>0</td>\n      <td>1999-06-13 12:00:00</td>\n      <td></td>\n      <td>TS</td>\n      <td>29.1</td>\n      <td>...</td>\n      <td>NaN</td>\n      <td>NaN</td>\n      <td>NaN</td>\n      <td>NaN</td>\n      <td>NaN</td>\n      <td>NaN</td>\n      <td>NaN</td>\n      <td>NaN</td>\n      <td>NaN</td>\n      <td>NaN</td>\n    </tr>\n    <tr>\n      <th>41318</th>\n      <td>AL011999ARLENE</td>\n      <td>1999</td>\n      <td>6</td>\n      <td>13</td>\n      <td>18</td>\n      <td>0</td>\n      <td>1999-06-13 18:00:00</td>\n      <td></td>\n      <td>TS</td>\n      <td>29.1</td>\n      <td>...</td>\n      <td>NaN</td>\n      <td>NaN</td>\n      <td>NaN</td>\n      <td>NaN</td>\n      <td>NaN</td>\n      <td>NaN</td>\n      <td>NaN</td>\n      <td>NaN</td>\n      <td>NaN</td>\n      <td>NaN</td>\n    </tr>\n    <tr>\n      <th>41319</th>\n      <td>AL011999ARLENE</td>\n      <td>1999</td>\n      <td>6</td>\n      <td>14</td>\n      <td>0</td>\n      <td>0</td>\n      <td>1999-06-14 00:00:00</td>\n      <td></td>\n      <td>TS</td>\n      <td>29.1</td>\n      <td>...</td>\n      <td>NaN</td>\n      <td>NaN</td>\n      <td>NaN</td>\n      <td>NaN</td>\n      <td>NaN</td>\n      <td>NaN</td>\n      <td>NaN</td>\n      <td>NaN</td>\n      <td>NaN</td>\n      <td>NaN</td>\n    </tr>\n  </tbody>\n</table>\n<p>10 rows × 40 columns</p>\n</div>"
     },
     "execution_count": 35,
     "metadata": {},
     "output_type": "execute_result"
    }
   ],
   "source": [
    "point1998DF.head(10)"
   ],
   "metadata": {
    "collapsed": false,
    "pycharm": {
     "name": "#%%\n"
    }
   }
  },
  {
   "cell_type": "code",
   "execution_count": 40,
   "outputs": [
    {
     "data": {
      "text/plain": "id                      AL011999ARLENE\nyear                              1999\nmonth                                6\nday                                 11\nhours                               18\nminutes                              0\ndate_time          1999-06-11 18:00:00\nrecord_type                           \nstatus                              TD\nlatitude                          27.1\nlongitude                        -58.1\nwind                                30\nACE                               0.09\npressure                        1010.0\n34_ne                              NaN\n34_se                              NaN\n34_sw                              NaN\n34_nw                              NaN\n50_ne                              NaN\n50_se                              NaN\n50_sw                              NaN\n50_nw                              NaN\n64_ne                              NaN\n64_se                              NaN\n64_sw                              NaN\n64_nw                              NaN\n34_se_poly                         NaN\n34_sw_poly                         NaN\n34_ne_poly                         NaN\n34_nw_poly                         NaN\n50_ne_poly                         NaN\n50_se_poly                         NaN\n50_sw_poly                         NaN\n50_nw_poly                         NaN\n64_ne_poly                         NaN\n64_se_poly                         NaN\n64_sw_poly                         NaN\n64_nw_poly                         NaN\nmax_wind_radius                    NaN\nmax_wind_poly                      NaN\nName: 41310, dtype: object"
     },
     "execution_count": 40,
     "metadata": {},
     "output_type": "execute_result"
    }
   ],
   "source": [
    "point = point1998DF.iloc[0]\n",
    "point"
   ],
   "metadata": {
    "collapsed": false,
    "pycharm": {
     "name": "#%%\n"
    }
   }
  },
  {
   "cell_type": "code",
   "execution_count": 45,
   "outputs": [
    {
     "ename": "AttributeError",
     "evalue": "'Series' object has no attribute 'split'",
     "output_type": "error",
     "traceback": [
      "\u001B[0;31m---------------------------------------------------------------------------\u001B[0m",
      "\u001B[0;31mAttributeError\u001B[0m                            Traceback (most recent call last)",
      "Input \u001B[0;32mIn [45]\u001B[0m, in \u001B[0;36m<cell line: 1>\u001B[0;34m()\u001B[0m\n\u001B[0;32m----> 1\u001B[0m specificPoint \u001B[38;5;241m=\u001B[39m ir\u001B[38;5;241m.\u001B[39mloc[ir[\u001B[38;5;124m'\u001B[39m\u001B[38;5;124mseason\u001B[39m\u001B[38;5;124m'\u001B[39m] \u001B[38;5;241m==\u001B[39m \u001B[38;5;28mint\u001B[39m(point[\u001B[38;5;124m'\u001B[39m\u001B[38;5;124mid\u001B[39m\u001B[38;5;124m'\u001B[39m][\u001B[38;5;241m4\u001B[39m:\u001B[38;5;241m8\u001B[39m])]\u001B[38;5;241m.\u001B[39mloc[\u001B[43mir\u001B[49m\u001B[43m[\u001B[49m\u001B[38;5;124;43m'\u001B[39;49m\u001B[38;5;124;43mstorm_name\u001B[39;49m\u001B[38;5;124;43m'\u001B[39;49m\u001B[43m]\u001B[49m\u001B[38;5;241;43m.\u001B[39;49m\u001B[43msplit\u001B[49m(\u001B[38;5;124m'\u001B[39m\u001B[38;5;124m/\u001B[39m\u001B[38;5;124m'\u001B[39m)[\u001B[38;5;241m-\u001B[39m\u001B[38;5;241m1\u001B[39m] \u001B[38;5;241m==\u001B[39m point[\u001B[38;5;124m'\u001B[39m\u001B[38;5;124mid\u001B[39m\u001B[38;5;124m'\u001B[39m][\u001B[38;5;241m8\u001B[39m:]]\n\u001B[1;32m      2\u001B[0m specificPoint\u001B[38;5;241m.\u001B[39mhead(\u001B[38;5;241m10\u001B[39m)\n",
      "File \u001B[0;32m/Library/Python/3.8/site-packages/pandas/core/generic.py:5907\u001B[0m, in \u001B[0;36mNDFrame.__getattr__\u001B[0;34m(self, name)\u001B[0m\n\u001B[1;32m   5900\u001B[0m \u001B[38;5;28;01mif\u001B[39;00m (\n\u001B[1;32m   5901\u001B[0m     name \u001B[38;5;129;01mnot\u001B[39;00m \u001B[38;5;129;01min\u001B[39;00m \u001B[38;5;28mself\u001B[39m\u001B[38;5;241m.\u001B[39m_internal_names_set\n\u001B[1;32m   5902\u001B[0m     \u001B[38;5;129;01mand\u001B[39;00m name \u001B[38;5;129;01mnot\u001B[39;00m \u001B[38;5;129;01min\u001B[39;00m \u001B[38;5;28mself\u001B[39m\u001B[38;5;241m.\u001B[39m_metadata\n\u001B[1;32m   5903\u001B[0m     \u001B[38;5;129;01mand\u001B[39;00m name \u001B[38;5;129;01mnot\u001B[39;00m \u001B[38;5;129;01min\u001B[39;00m \u001B[38;5;28mself\u001B[39m\u001B[38;5;241m.\u001B[39m_accessors\n\u001B[1;32m   5904\u001B[0m     \u001B[38;5;129;01mand\u001B[39;00m \u001B[38;5;28mself\u001B[39m\u001B[38;5;241m.\u001B[39m_info_axis\u001B[38;5;241m.\u001B[39m_can_hold_identifiers_and_holds_name(name)\n\u001B[1;32m   5905\u001B[0m ):\n\u001B[1;32m   5906\u001B[0m     \u001B[38;5;28;01mreturn\u001B[39;00m \u001B[38;5;28mself\u001B[39m[name]\n\u001B[0;32m-> 5907\u001B[0m \u001B[38;5;28;01mreturn\u001B[39;00m \u001B[38;5;28;43mobject\u001B[39;49m\u001B[38;5;241;43m.\u001B[39;49m\u001B[38;5;21;43m__getattribute__\u001B[39;49m\u001B[43m(\u001B[49m\u001B[38;5;28;43mself\u001B[39;49m\u001B[43m,\u001B[49m\u001B[43m \u001B[49m\u001B[43mname\u001B[49m\u001B[43m)\u001B[49m\n",
      "\u001B[0;31mAttributeError\u001B[0m: 'Series' object has no attribute 'split'"
     ]
    }
   ],
   "source": [
    "specificPoint = ir.loc[ir['season'] == int(point['id'][4:8])].loc[ir['storm_name'].split('/')[-1] == point['id'][8:]]\n",
    "specificPoint.head(10)"
   ],
   "metadata": {
    "collapsed": false,
    "pycharm": {
     "name": "#%%\n"
    }
   }
  },
  {
   "cell_type": "code",
   "execution_count": 14,
   "outputs": [],
   "source": [
    "ir.to_csv('./ir_tcdat.csv', index=False)"
   ],
   "metadata": {
    "collapsed": false,
    "pycharm": {
     "name": "#%%\n"
    },
    "ExecuteTime": {
     "end_time": "2024-02-23T00:19:04.428553100Z",
     "start_time": "2024-02-23T00:18:59.145666500Z"
    }
   }
  },
  {
   "cell_type": "code",
   "execution_count": null,
   "outputs": [],
   "source": [],
   "metadata": {
    "collapsed": false,
    "pycharm": {
     "name": "#%%\n"
    }
   }
  }
 ],
 "metadata": {
  "kernelspec": {
   "display_name": "Python 3",
   "language": "python",
   "name": "python3"
  },
  "language_info": {
   "codemirror_mode": {
    "name": "ipython",
    "version": 2
   },
   "file_extension": ".py",
   "mimetype": "text/x-python",
   "name": "python",
   "nbconvert_exporter": "python",
   "pygments_lexer": "ipython2",
   "version": "2.7.6"
  }
 },
 "nbformat": 4,
 "nbformat_minor": 0
}
